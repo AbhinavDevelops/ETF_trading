{
 "cells": [
  {
   "cell_type": "code",
   "execution_count": null,
   "metadata": {},
   "outputs": [],
   "source": [
    "pip uninstall -y qfinuwa"
   ]
  },
  {
   "cell_type": "code",
   "execution_count": null,
   "metadata": {},
   "outputs": [],
   "source": [
    "!pip install qfinuwa"
   ]
  },
  {
   "cell_type": "code",
   "execution_count": 1,
   "metadata": {},
   "outputs": [],
   "source": [
    "import pandas as pd\n",
    "from qfinuwa import Indicators, Strategy, Backtester, Plotting"
   ]
  },
  {
   "cell_type": "code",
   "execution_count": 37,
   "metadata": {},
   "outputs": [],
   "source": [
    "class CustomIndicators(Indicators):\n",
    "    \n",
    "    @Indicators.MultiIndicator\n",
    "    def bollinger_bands(self, stock, BOLLINGER_WIDTH = 2, WINDOW_SIZE = 50):\n",
    "\n",
    "        mid_price = (stock['high'] + stock['low']) / 2\n",
    "        rolling_mid = mid_price.rolling(WINDOW_SIZE).mean()\n",
    "        rolling_std = mid_price.rolling(WINDOW_SIZE).std()\n",
    "\n",
    "        return {\"upper_bollinger\": rolling_mid + BOLLINGER_WIDTH*rolling_std,\n",
    "                \"lower_bollinger\": rolling_mid - BOLLINGER_WIDTH*rolling_std}\n",
    "    \n",
    "    # @Indicators.SingleIndicator\n",
    "    # def theo_etf(self, stocks):\n",
    "    #     weights = {\n",
    "    #         'AAPL': 74235724,\n",
    "    #         'MSFT': 33656109,\n",
    "    #         'NVDA': 11813404,\n",
    "    #         'V': 7278487,\n",
    "    #         'MA': 4106032,\n",
    "    #         'AVGO': 1923552,\n",
    "    #         'CRM': 4730962,\n",
    "    #         'TXN': 4355505,\n",
    "    #     }\n",
    "\n",
    "    #     n_shares = sum(weights.values())\n",
    "    #     tot = n_shares = 19697965 + 3013530\n",
    "    #     factor = tot/n_shares\n",
    "\n",
    "    #     midprices = [(w/n_shares)*stocks[s]['close'] for s,w in weights.items()]\n",
    "\n",
    "    #     summation = sum(midprices)\n",
    "\n",
    "    #     return factor*summation\n",
    "\n",
    "    @Indicators.SingleIndicator\n",
    "    def pairs_ratio(self, stocks, WINDOW_SIZE = 30):\n",
    "        vgt_mid_price = (stocks['VGT']['high'] + stocks['VGT']['low']) / 2\n",
    "        iyw_mid_price = (stocks['IYW']['high'] + stocks['IYW']['low']) / 2\n",
    "    \n",
    "        price_ratio = vgt_mid_price / iyw_mid_price\n",
    "\n",
    "        rolling_mean = price_ratio.rolling(window=WINDOW_SIZE).mean()\n",
    "        rolling_std = price_ratio.rolling(window=WINDOW_SIZE).std()\n",
    "        z_score = (price_ratio - rolling_mean) / rolling_std\n",
    "        return {\"z_score\" : z_score}"
   ]
  },
  {
   "cell_type": "code",
   "execution_count": 36,
   "metadata": {},
   "outputs": [
    {
     "data": {
      "text/plain": [
       "count    431143.000000\n",
       "mean         -0.026137\n",
       "std           1.464486\n",
       "min          -5.561893\n",
       "25%          -1.646939\n",
       "50%          -0.049239\n",
       "75%           1.647012\n",
       "max           5.294654\n",
       "dtype: float64"
      ]
     },
     "execution_count": 36,
     "metadata": {},
     "output_type": "execute_result"
    }
   ],
   "source": [
    "ci = CustomIndicators()\n",
    "data = ['VGT', 'IYW']\n",
    "stocks = {d: pd.read_csv('data/' + d + '.csv') for d in data}\n",
    "z_score = ci.pairs_ratio(stocks)\n",
    "z_score.describe()"
   ]
  },
  {
   "cell_type": "code",
   "execution_count": 12,
   "metadata": {},
   "outputs": [],
   "source": [
    "class MyStrategy(Strategy):\n",
    "    \n",
    "    def __init__(self, quantity=5):\n",
    "        self.quantity = quantity\n",
    "        self.n_buys = 0\n",
    "        self.n_sells = 0\n",
    "    \n",
    "    def on_data(self, prices, indicators, portfolio):\n",
    "\n",
    "        for stock in portfolio.stocks:\n",
    "            # Buy if current price is below lower bollinger band\n",
    "            if(prices['close'][stock][-1] < indicators['lower_bollinger'][stock][-1]):\n",
    "                portfolio.order(stock, quantity = self.quantity)\n",
    "                self.n_buys += 1\n",
    "            \n",
    "            # Sell if current price is above upper bollinger band\n",
    "            if(prices['close'][stock][-1] > indicators['upper_bollinger'][stock][-1]):\n",
    "                portfolio.order(stock, quantity = -self.quantity)\n",
    "                self.n_sells += 1\n",
    "\n",
    "    def on_finish(self):\n",
    "        # Added to results object - access using result.on_finish\n",
    "        return self.n_buys, self.n_sells"
   ]
  },
  {
   "cell_type": "code",
   "execution_count": 38,
   "metadata": {},
   "outputs": [],
   "source": [
    "class PairsTrading(Strategy):\n",
    "\n",
    "    def _init_(self, quantity=5):\n",
    "        self.quantity = quantity\n",
    "        self.n_buys = 0\n",
    "        self.n_sells = 0\n",
    "\n",
    "    def on_data(self, prices, indicators, portfolio): \n",
    "        \n",
    "        return\n",
    "        # entry_threshold = 1.5 \n",
    "        # exit_threshold = 0.5\n",
    "\n",
    "        # for z_score in z_scores:\n",
    "        #     if z_score > entry_threshold:\n",
    "        #         print(\"Buy VGT and sell IYW\")\n",
    "        #     elif z_score < - entry_threshold:\n",
    "        #         print(\"Buy IYW and sell VGT\")\n",
    "        #     if abs(z_score) < exit_threshold:\n",
    "        #         print(\"Exit positions\")\n",
    "        #     else:\n",
    "        #         print(\"Do nothing\")'\n",
    "    \n",
    "    def on_finish(self):\n",
    "        return\n",
    "        "
   ]
  },
  {
   "cell_type": "code",
   "execution_count": 39,
   "metadata": {},
   "outputs": [
    {
     "name": "stderr",
     "output_type": "stream",
     "text": [
      "> Fetching data: 100%|██████████| 2/2 [00:01<00:00,  1.48it/s]\n",
      "> Precompiling data: 100%|██████████| 431430/431430 [00:03<00:00, 135509.49it/s]\n"
     ]
    },
    {
     "ename": "ValueError",
     "evalue": "Indicator function pairs_ratio must return a dict",
     "output_type": "error",
     "traceback": [
      "\u001b[1;31m---------------------------------------------------------------------------\u001b[0m",
      "\u001b[1;31mValueError\u001b[0m                                Traceback (most recent call last)",
      "Cell \u001b[1;32mIn[39], line 1\u001b[0m\n\u001b[1;32m----> 1\u001b[0m backtester \u001b[39m=\u001b[39m Backtester(PairsTrading, CustomIndicators, [\u001b[39m'\u001b[39;49m\u001b[39mVGT\u001b[39;49m\u001b[39m'\u001b[39;49m, \u001b[39m'\u001b[39;49m\u001b[39mIYW\u001b[39;49m\u001b[39m'\u001b[39;49m], data_folder\u001b[39m=\u001b[39;49m\u001b[39m'\u001b[39;49m\u001b[39mdata\u001b[39;49m\u001b[39m'\u001b[39;49m, days\u001b[39m=\u001b[39;49m\u001b[39m30\u001b[39;49m, fee\u001b[39m=\u001b[39;49m\u001b[39m0.000\u001b[39;49m, delta_limits\u001b[39m=\u001b[39;49m\u001b[39m200\u001b[39;49m)\n\u001b[0;32m      2\u001b[0m backtester\n",
      "File \u001b[1;32mc:\\Users\\farru\\AppData\\Local\\Programs\\Python\\Python310\\lib\\site-packages\\qfinuwa\\backtester.py:129\u001b[0m, in \u001b[0;36mBacktester.__init__\u001b[1;34m(self, strategy_class, indicator_class, stocks, data_folder, days, delta_limits, fee, progressbar)\u001b[0m\n\u001b[0;32m    125\u001b[0m \u001b[39mif\u001b[39;00m \u001b[39mnot\u001b[39;00m \u001b[39missubclass\u001b[39m(indicator_class, Indicators):\n\u001b[0;32m    126\u001b[0m     \u001b[39mraise\u001b[39;00m \u001b[39mValueError\u001b[39;00m(\u001b[39m'\u001b[39m\u001b[39mIndicators must be a subclass of Indicators\u001b[39m\u001b[39m'\u001b[39m)\n\u001b[1;32m--> 129\u001b[0m \u001b[39mself\u001b[39m\u001b[39m.\u001b[39m_indicators \u001b[39m=\u001b[39m indicator_class(data\u001b[39m=\u001b[39;49m\u001b[39mself\u001b[39;49m\u001b[39m.\u001b[39;49m_data)\n\u001b[0;32m    131\u001b[0m \u001b[39mself\u001b[39m\u001b[39m.\u001b[39m_fee \u001b[39m=\u001b[39m fee\n\u001b[0;32m    132\u001b[0m \u001b[39m# self._starting_cash = starting_cash  \u001b[39;00m\n",
      "File \u001b[1;32mc:\\Users\\farru\\AppData\\Local\\Programs\\Python\\Python310\\lib\\site-packages\\qfinuwa\\indicators.py:110\u001b[0m, in \u001b[0;36mIndicators.__init__\u001b[1;34m(self, data)\u001b[0m\n\u001b[0;32m    108\u001b[0m \u001b[39mself\u001b[39m\u001b[39m.\u001b[39m_cache \u001b[39m=\u001b[39m \u001b[39mdict\u001b[39m()\n\u001b[0;32m    109\u001b[0m \u001b[39mself\u001b[39m\u001b[39m.\u001b[39m_funcn_to_indicator_map \u001b[39m=\u001b[39m \u001b[39mdict\u001b[39m()\n\u001b[1;32m--> 110\u001b[0m \u001b[39mself\u001b[39;49m\u001b[39m.\u001b[39;49m_add_parameters(\u001b[39mself\u001b[39;49m\u001b[39m.\u001b[39;49mparams)\n",
      "File \u001b[1;32mc:\\Users\\farru\\AppData\\Local\\Programs\\Python\\Python310\\lib\\site-packages\\qfinuwa\\indicators.py:251\u001b[0m, in \u001b[0;36mIndicators._add_parameters\u001b[1;34m(self, params)\u001b[0m\n\u001b[0;32m    248\u001b[0m \u001b[39mif\u001b[39;00m func_name \u001b[39mnot\u001b[39;00m \u001b[39min\u001b[39;00m \u001b[39mself\u001b[39m\u001b[39m.\u001b[39m_indicator_functions:\n\u001b[0;32m    249\u001b[0m     \u001b[39mraise\u001b[39;00m \u001b[39mValueError\u001b[39;00m(\u001b[39mf\u001b[39m\u001b[39m'\u001b[39m\u001b[39mIndicator function \u001b[39m\u001b[39m{\u001b[39;00mfunc_name\u001b[39m}\u001b[39;00m\u001b[39m not found\u001b[39m\u001b[39m'\u001b[39m)\n\u001b[1;32m--> 251\u001b[0m \u001b[39mself\u001b[39;49m\u001b[39m.\u001b[39;49m_add_indicator(func_name, \u001b[39mself\u001b[39;49m\u001b[39m.\u001b[39;49m_indicator_functions[func_name], f_params)\n",
      "File \u001b[1;32mc:\\Users\\farru\\AppData\\Local\\Programs\\Python\\Python310\\lib\\site-packages\\qfinuwa\\indicators.py:267\u001b[0m, in \u001b[0;36mIndicators._add_indicator\u001b[1;34m(self, func_name, func, params)\u001b[0m\n\u001b[0;32m    265\u001b[0m out \u001b[39m=\u001b[39m func(\u001b[39mself\u001b[39m, data, \u001b[39m*\u001b[39m\u001b[39m*\u001b[39mparams)\n\u001b[0;32m    266\u001b[0m \u001b[39mif\u001b[39;00m \u001b[39mnot\u001b[39;00m \u001b[39misinstance\u001b[39m(out, \u001b[39mdict\u001b[39m):\n\u001b[1;32m--> 267\u001b[0m     \u001b[39mraise\u001b[39;00m \u001b[39mValueError\u001b[39;00m(\u001b[39mf\u001b[39m\u001b[39m'\u001b[39m\u001b[39mIndicator function \u001b[39m\u001b[39m{\u001b[39;00mfunc_name\u001b[39m}\u001b[39;00m\u001b[39m must return a dict\u001b[39m\u001b[39m'\u001b[39m)\n\u001b[0;32m    269\u001b[0m \u001b[39mself\u001b[39m\u001b[39m.\u001b[39m_funcn_to_indicator_map[func_name] \u001b[39m=\u001b[39m \u001b[39msorted\u001b[39m(\u001b[39mlist\u001b[39m(out\u001b[39m.\u001b[39mkeys()))\n\u001b[0;32m    271\u001b[0m \u001b[39mfor\u001b[39;00m indicator, value \u001b[39min\u001b[39;00m out\u001b[39m.\u001b[39mitems():\n",
      "\u001b[1;31mValueError\u001b[0m: Indicator function pairs_ratio must return a dict"
     ]
    }
   ],
   "source": [
    "backtester = Backtester(PairsTrading, CustomIndicators, ['VGT', 'IYW'], data_folder='data', days=30, fee=0.000, delta_limits=200)\n",
    "backtester"
   ]
  },
  {
   "cell_type": "code",
   "execution_count": 17,
   "metadata": {},
   "outputs": [
    {
     "name": "stderr",
     "output_type": "stream",
     "text": [
      "> Running backtest over 10 samples of 30 days: 100%|██████████| 10/10 [00:04<00:00,  2.28it/s]\n"
     ]
    },
    {
     "data": {
      "text/plain": [
       "\n",
       "{'strategy': {'quantity': 5}, 'indicator': {'bollinger_bands': {'BOLLINGER_WIDTH': 2, 'WINDOW_SIZE': 50}}}\n",
       "\n",
       "Mean ROI:\t13397.596208924539\n",
       "STD ROI:\t44157.20120493155\n",
       "\n",
       "13/10/2022 -> 11/11/2022:\t0.000\n",
       "19/05/2022 -> 17/06/2022:\t7934.133\n",
       "13/04/2021 -> 12/05/2021:\t-48633.209\n",
       "19/10/2021 -> 17/11/2021:\t75878.483\n",
       "06/05/2021 -> 04/06/2021:\t-73960.392\n",
       "21/09/2021 -> 20/10/2021:\t56801.155\n",
       "16/08/2022 -> 14/09/2022:\t42609.246\n",
       "25/04/2022 -> 24/05/2022:\t20177.812\n",
       "15/11/2022 -> 14/12/2022:\t46271.884\n",
       "29/11/2021 -> 28/12/2021:\t6896.851\n",
       "\n",
       "AVERAGED RESULTS FOR 10 RUNS:\n",
       "|               |     VGT |     Net |\n",
       "|---------------|---------|---------|\n",
       "| n_trades      |  2015.6 |  2015.6 |\n",
       "| n_buys        |  1010.8 |  1010.8 |\n",
       "| n_sells       |  1004.8 |  1004.8 |\n",
       "| gross_pnl     | 13397.6 | 13397.6 |\n",
       "| fees_paid     |       0 |       0 |\n",
       "| net_pnl       | 13397.6 | 13397.6 |\n",
       "| pnl_per_trade | 6.61137 | 6.61137 |"
      ]
     },
     "execution_count": 17,
     "metadata": {},
     "output_type": "execute_result"
    }
   ],
   "source": [
    "# backtester.run(cv=5, start_dates=['24-01-2022', '02-09-2022', '12-11-2021', '06-10-2021', '31-12-2021'])\n",
    "backtester.run(cv=10)"
   ]
  },
  {
   "cell_type": "code",
   "execution_count": 10,
   "metadata": {},
   "outputs": [
    {
     "name": "stdout",
     "output_type": "stream",
     "text": [
      "> Backtesting the across the following ranges:\n",
      "Agorithm Parameters {'quantity': [1, 5, 10]}\n",
      "Indicator Parameters {'bollinger_bands': {'BOLLINGER_WIDTH': [1, 2], 'WINDOW_SIZE': [10, 50, 100]}}\n"
     ]
    },
    {
     "name": "stderr",
     "output_type": "stream",
     "text": [
      "Running paramter sweep (cv=10): 100%|██████████| 18/18 [01:04<00:00,  3.59s/it]\n"
     ]
    },
    {
     "data": {
      "text/plain": [
       "Best parameter results:\n",
       "\n",
       "{'strategy': {'quantity': 1}, 'indicator': {'bollinger_bands': {'BOLLINGER_WIDTH': 2, 'WINDOW_SIZE': 50}}}\n",
       "\n",
       "Mean ROI:\t32978.63621817609\n",
       "STD ROI:\t51268.52381632615\n",
       "\n",
       "14/07/2021 -> 12/08/2021:\t42870.008\n",
       "08/02/2022 -> 09/03/2022:\t-77715.676\n",
       "19/10/2022 -> 17/11/2022:\t45193.670\n",
       "09/06/2021 -> 08/07/2021:\t44388.714\n",
       "08/12/2021 -> 06/01/2022:\t80842.582\n",
       "26/08/2021 -> 24/09/2021:\t52077.063\n",
       "07/01/2022 -> 04/02/2022:\t79876.865\n",
       "21/10/2021 -> 19/11/2021:\t87287.688\n",
       "25/08/2021 -> 23/09/2021:\t-41755.677\n",
       "16/06/2021 -> 15/07/2021:\t16721.127\n",
       "\n",
       "AVERAGED RESULTS FOR 10 RUNS:\n",
       "|               |     VGT |     Net |\n",
       "|---------------|---------|---------|\n",
       "| n_trades      |  4081.3 |  4081.3 |\n",
       "| n_buys        |  2083.8 |  2083.8 |\n",
       "| n_sells       |  1997.5 |  1997.5 |\n",
       "| gross_pnl     | 36274.8 | 36274.8 |\n",
       "| fees_paid     |  3296.2 |  3296.2 |\n",
       "| net_pnl       | 32978.6 | 32978.6 |\n",
       "| pnl_per_trade | 9.07188 | 9.07188 |"
      ]
     },
     "execution_count": 10,
     "metadata": {},
     "output_type": "execute_result"
    }
   ],
   "source": [
    "backtester.run_grid_search(\n",
    "    strategy_params={'quantity': [1, 5, 10]},\n",
    "    indicator_params={'bollinger_bands': {'BOLLINGER_WIDTH': [1, 2], 'WINDOW_SIZE': [10, 50, 100]}},\n",
    "    cv=10)"
   ]
  },
  {
   "cell_type": "code",
   "execution_count": null,
   "metadata": {},
   "outputs": [],
   "source": []
  }
 ],
 "metadata": {
  "kernelspec": {
   "display_name": "Python 3",
   "language": "python",
   "name": "python3"
  },
  "language_info": {
   "codemirror_mode": {
    "name": "ipython",
    "version": 3
   },
   "file_extension": ".py",
   "mimetype": "text/x-python",
   "name": "python",
   "nbconvert_exporter": "python",
   "pygments_lexer": "ipython3",
   "version": "3.10.6"
  },
  "orig_nbformat": 4
 },
 "nbformat": 4,
 "nbformat_minor": 2
}
