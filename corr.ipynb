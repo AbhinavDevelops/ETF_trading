{
 "cells": [
  {
   "cell_type": "code",
   "execution_count": 8,
   "metadata": {},
   "outputs": [
    {
     "name": "stdout",
     "output_type": "stream",
     "text": [
      "Processing file: AAPL.csv\n",
      "Processing file: AVGO.csv\n",
      "Processing file: CI.csv\n",
      "Processing file: CNC.csv\n",
      "Processing file: CRM.csv\n",
      "Processing file: CVS.csv\n",
      "Processing file: GOOG.csv\n",
      "Processing file: GOOGL.csv\n",
      "Processing file: HCA.csv\n",
      "Processing file: HUM.csv\n",
      "Processing file: IHF.csv\n",
      "Processing file: IYW.csv\n",
      "Processing file: MA.csv\n",
      "Processing file: MSFT.csv\n",
      "Processing file: NVDA.csv\n",
      "Processing file: SPY.csv\n",
      "Processing file: TXN.csv\n",
      "Processing file: V.csv\n",
      "Processing file: VGT.csv\n",
      "Correlation results written to correlations.csv\n"
     ]
    }
   ],
   "source": [
    "import os\n",
    "import pandas as pd\n",
    "\n",
    "#dataframes = read_csv_files('data')\n",
    "def read_csv_files(folder_path):\n",
    "    # Directory containing the CSV files\n",
    "    folder_path = 'data'\n",
    "\n",
    "    # List all files in the folder\n",
    "    files = os.listdir(folder_path)\n",
    "\n",
    "    dataframes = {}\n",
    "    # Iterate through the files\n",
    "    for file in files:\n",
    "        # Check if the file has a .csv extension\n",
    "        if file.endswith('.csv'):\n",
    "            # Construct the full file path by joining the folder path and file name\n",
    "            file_path = os.path.join(folder_path, file)\n",
    "            \n",
    "            # Load the CSV file into a DataFrame\n",
    "            df = pd.read_csv(file_path)\n",
    "            dataframes[file] = df\n",
    "            \n",
    "            # Perform data analysis or other tasks on the DataFrame\n",
    "            # For example, you can calculate correlations, plot data, etc.\n",
    "            # ...\n",
    "            \n",
    "            # Print file name or perform other actions\n",
    "            print('Processing file:', file)\n",
    "\n",
    "    return dataframes\n",
    "\n",
    "\n",
    "def calculate_correlation(df1, df2):\n",
    "    # Calculate correlation\n",
    "    correlation = df1['close'].corr(df2['close'])\n",
    "\n",
    "    # Print correlation coefficient\n",
    "    print('Correlation coefficient between stock1 and stock2: ', correlation)\n",
    "\n",
    "    return correlation\n",
    "\n",
    "keys = list(dataframes.keys())\n",
    "correlation_results = []\n",
    "for i in range(len(keys)) :\n",
    "    for j in range (i+1, len(keys)):\n",
    "        correlation = calculate_correlation(dataframes[keys[i]], dataframes[keys[j]])\n",
    "        if correlation > 0.8:\n",
    "            correlation_results.append([keys[i], keys[j], correlation])\n",
    "# Create a DataFrame from the list of correlation results\n",
    "correlation_df = pd.DataFrame(correlation_results, columns=['Stock_1', 'Stock_2', 'Correlation'])\n",
    "\n",
    "Write the DataFrame to a CSV file\n",
    "correlation_df.to_csv('correlations.csv', index=False)\n",
    "read_csv_files('data')\n",
    "\n",
    "print('Correlation results written to correlations.csv')"
   ]
  },
  {
   "cell_type": "code",
   "execution_count": null,
   "metadata": {},
   "outputs": [],
   "source": []
  }
 ],
 "metadata": {
  "kernelspec": {
   "display_name": "base",
   "language": "python",
   "name": "python3"
  },
  "language_info": {
   "codemirror_mode": {
    "name": "ipython",
    "version": 3
   },
   "file_extension": ".py",
   "mimetype": "text/x-python",
   "name": "python",
   "nbconvert_exporter": "python",
   "pygments_lexer": "ipython3",
   "version": "3.10.6"
  },
  "orig_nbformat": 4
 },
 "nbformat": 4,
 "nbformat_minor": 2
}
