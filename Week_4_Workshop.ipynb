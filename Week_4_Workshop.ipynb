{
  "cells": [
    {
      "cell_type": "markdown",
      "metadata": {
        "id": "oiry1klchYkF"
      },
      "source": [
        "# QFin Trading Team Workshop 3\n",
        "## Creating Custom Indicators\n",
        "\n",
        "### Recap of Last Week"
      ]
    },
    {
      "cell_type": "code",
      "execution_count": null,
      "metadata": {
        "id": "2BwMZrgLhc3-"
      },
      "outputs": [],
      "source": []
    },
    {
      "cell_type": "code",
      "execution_count": 1,
      "metadata": {
        "id": "Z-daXR_ahYkJ"
      },
      "outputs": [],
      "source": [
        "import pandas as pd"
      ]
    },
    {
      "cell_type": "markdown",
      "metadata": {
        "id": "pD-QDstKhYkK"
      },
      "source": [
        "#### Read In APPL Data"
      ]
    },
    {
      "cell_type": "code",
      "execution_count": 2,
      "metadata": {
        "id": "Q3XXP3k_hYkL"
      },
      "outputs": [
        {
          "data": {
            "text/html": [
              "<div>\n",
              "<style scoped>\n",
              "    .dataframe tbody tr th:only-of-type {\n",
              "        vertical-align: middle;\n",
              "    }\n",
              "\n",
              "    .dataframe tbody tr th {\n",
              "        vertical-align: top;\n",
              "    }\n",
              "\n",
              "    .dataframe thead th {\n",
              "        text-align: right;\n",
              "    }\n",
              "</style>\n",
              "<table border=\"1\" class=\"dataframe\">\n",
              "  <thead>\n",
              "    <tr style=\"text-align: right;\">\n",
              "      <th></th>\n",
              "      <th>open</th>\n",
              "      <th>high</th>\n",
              "      <th>low</th>\n",
              "      <th>close</th>\n",
              "      <th>volume</th>\n",
              "    </tr>\n",
              "    <tr>\n",
              "      <th>time</th>\n",
              "      <th></th>\n",
              "      <th></th>\n",
              "      <th></th>\n",
              "      <th></th>\n",
              "      <th></th>\n",
              "    </tr>\n",
              "  </thead>\n",
              "  <tbody>\n",
              "    <tr>\n",
              "      <th>2021-04-09 09:31:00</th>\n",
              "      <td>128.095547</td>\n",
              "      <td>128.480426</td>\n",
              "      <td>128.095547</td>\n",
              "      <td>128.312659</td>\n",
              "      <td>1728495.0</td>\n",
              "    </tr>\n",
              "    <tr>\n",
              "      <th>2021-04-09 09:32:00</th>\n",
              "      <td>128.302790</td>\n",
              "      <td>128.391608</td>\n",
              "      <td>128.031401</td>\n",
              "      <td>128.154760</td>\n",
              "      <td>595045.0</td>\n",
              "    </tr>\n",
              "    <tr>\n",
              "      <th>2021-04-09 09:33:00</th>\n",
              "      <td>128.149825</td>\n",
              "      <td>128.233709</td>\n",
              "      <td>127.908042</td>\n",
              "      <td>127.977123</td>\n",
              "      <td>567205.0</td>\n",
              "    </tr>\n",
              "    <tr>\n",
              "      <th>2021-04-09 09:34:00</th>\n",
              "      <td>127.977222</td>\n",
              "      <td>128.095547</td>\n",
              "      <td>127.878436</td>\n",
              "      <td>128.006729</td>\n",
              "      <td>495596.0</td>\n",
              "    </tr>\n",
              "    <tr>\n",
              "      <th>2021-04-09 09:35:00</th>\n",
              "      <td>128.001795</td>\n",
              "      <td>128.085679</td>\n",
              "      <td>127.868568</td>\n",
              "      <td>127.908042</td>\n",
              "      <td>399394.0</td>\n",
              "    </tr>\n",
              "  </tbody>\n",
              "</table>\n",
              "</div>"
            ],
            "text/plain": [
              "                           open        high         low       close     volume\n",
              "time                                                                          \n",
              "2021-04-09 09:31:00  128.095547  128.480426  128.095547  128.312659  1728495.0\n",
              "2021-04-09 09:32:00  128.302790  128.391608  128.031401  128.154760   595045.0\n",
              "2021-04-09 09:33:00  128.149825  128.233709  127.908042  127.977123   567205.0\n",
              "2021-04-09 09:34:00  127.977222  128.095547  127.878436  128.006729   495596.0\n",
              "2021-04-09 09:35:00  128.001795  128.085679  127.868568  127.908042   399394.0"
            ]
          },
          "execution_count": 2,
          "metadata": {},
          "output_type": "execute_result"
        }
      ],
      "source": [
        "aapl_df = pd.read_csv('./data/AAPL.csv', index_col='time')\n",
        "aapl_df.head()"
      ]
    },
    {
      "cell_type": "markdown",
      "metadata": {
        "id": "grzNYwOBhYkL"
      },
      "source": [
        "#### Create Custom Indicator"
      ]
    },
    {
      "cell_type": "code",
      "execution_count": 3,
      "metadata": {
        "id": "g5WTMejAhYkM"
      },
      "outputs": [
        {
          "data": {
            "text/html": [
              "<div>\n",
              "<style scoped>\n",
              "    .dataframe tbody tr th:only-of-type {\n",
              "        vertical-align: middle;\n",
              "    }\n",
              "\n",
              "    .dataframe tbody tr th {\n",
              "        vertical-align: top;\n",
              "    }\n",
              "\n",
              "    .dataframe thead th {\n",
              "        text-align: right;\n",
              "    }\n",
              "</style>\n",
              "<table border=\"1\" class=\"dataframe\">\n",
              "  <thead>\n",
              "    <tr style=\"text-align: right;\">\n",
              "      <th></th>\n",
              "      <th>volume</th>\n",
              "      <th>mid_price</th>\n",
              "      <th>upper_bollinger</th>\n",
              "      <th>lower_bollinger</th>\n",
              "    </tr>\n",
              "    <tr>\n",
              "      <th>time</th>\n",
              "      <th></th>\n",
              "      <th></th>\n",
              "      <th></th>\n",
              "      <th></th>\n",
              "    </tr>\n",
              "  </thead>\n",
              "  <tbody>\n",
              "    <tr>\n",
              "      <th>2021-04-09 11:10:00</th>\n",
              "      <td>189778.0</td>\n",
              "      <td>128.949189</td>\n",
              "      <td>129.969133</td>\n",
              "      <td>128.127874</td>\n",
              "    </tr>\n",
              "    <tr>\n",
              "      <th>2021-04-09 11:11:00</th>\n",
              "      <td>216297.0</td>\n",
              "      <td>128.978795</td>\n",
              "      <td>129.963262</td>\n",
              "      <td>128.147561</td>\n",
              "    </tr>\n",
              "    <tr>\n",
              "      <th>2021-04-09 11:12:00</th>\n",
              "      <td>132587.0</td>\n",
              "      <td>128.949189</td>\n",
              "      <td>129.954783</td>\n",
              "      <td>128.170794</td>\n",
              "    </tr>\n",
              "    <tr>\n",
              "      <th>2021-04-09 11:13:00</th>\n",
              "      <td>157577.0</td>\n",
              "      <td>128.934336</td>\n",
              "      <td>129.941059</td>\n",
              "      <td>128.201787</td>\n",
              "    </tr>\n",
              "    <tr>\n",
              "      <th>2021-04-09 11:14:00</th>\n",
              "      <td>184305.0</td>\n",
              "      <td>129.028138</td>\n",
              "      <td>129.923493</td>\n",
              "      <td>128.240176</td>\n",
              "    </tr>\n",
              "    <tr>\n",
              "      <th>...</th>\n",
              "      <td>...</td>\n",
              "      <td>...</td>\n",
              "      <td>...</td>\n",
              "      <td>...</td>\n",
              "    </tr>\n",
              "    <tr>\n",
              "      <th>2022-12-29 15:56:00</th>\n",
              "      <td>368260.0</td>\n",
              "      <td>129.630063</td>\n",
              "      <td>129.998280</td>\n",
              "      <td>129.515498</td>\n",
              "    </tr>\n",
              "    <tr>\n",
              "      <th>2022-12-29 15:57:00</th>\n",
              "      <td>282248.0</td>\n",
              "      <td>129.595117</td>\n",
              "      <td>129.996215</td>\n",
              "      <td>129.511822</td>\n",
              "    </tr>\n",
              "    <tr>\n",
              "      <th>2022-12-29 15:58:00</th>\n",
              "      <td>254365.0</td>\n",
              "      <td>129.557624</td>\n",
              "      <td>129.994414</td>\n",
              "      <td>129.506942</td>\n",
              "    </tr>\n",
              "    <tr>\n",
              "      <th>2022-12-29 15:59:00</th>\n",
              "      <td>504929.0</td>\n",
              "      <td>129.486632</td>\n",
              "      <td>129.992829</td>\n",
              "      <td>129.499618</td>\n",
              "    </tr>\n",
              "    <tr>\n",
              "      <th>2022-12-29 16:00:00</th>\n",
              "      <td>908866.0</td>\n",
              "      <td>129.437856</td>\n",
              "      <td>129.990114</td>\n",
              "      <td>129.491349</td>\n",
              "    </tr>\n",
              "  </tbody>\n",
              "</table>\n",
              "<p>431331 rows × 4 columns</p>\n",
              "</div>"
            ],
            "text/plain": [
              "                       volume   mid_price  upper_bollinger  lower_bollinger\n",
              "time                                                                       \n",
              "2021-04-09 11:10:00  189778.0  128.949189       129.969133       128.127874\n",
              "2021-04-09 11:11:00  216297.0  128.978795       129.963262       128.147561\n",
              "2021-04-09 11:12:00  132587.0  128.949189       129.954783       128.170794\n",
              "2021-04-09 11:13:00  157577.0  128.934336       129.941059       128.201787\n",
              "2021-04-09 11:14:00  184305.0  129.028138       129.923493       128.240176\n",
              "...                       ...         ...              ...              ...\n",
              "2022-12-29 15:56:00  368260.0  129.630063       129.998280       129.515498\n",
              "2022-12-29 15:57:00  282248.0  129.595117       129.996215       129.511822\n",
              "2022-12-29 15:58:00  254365.0  129.557624       129.994414       129.506942\n",
              "2022-12-29 15:59:00  504929.0  129.486632       129.992829       129.499618\n",
              "2022-12-29 16:00:00  908866.0  129.437856       129.990114       129.491349\n",
              "\n",
              "[431331 rows x 4 columns]"
            ]
          },
          "execution_count": 3,
          "metadata": {},
          "output_type": "execute_result"
        }
      ],
      "source": [
        "aapl_df['mid_price'] = (aapl_df['high'] + aapl_df['low']) / 2\n",
        "aapl_df = aapl_df.drop(columns=['open', 'high', 'low', 'close'])\n",
        "\n",
        "BOLLINGER_WIDTH = 2\n",
        "rolling_mid = aapl_df['mid_price'].rolling(100).mean()\n",
        "rolling_std = aapl_df['mid_price'].rolling(100).std()\n",
        "aapl_df['upper_bollinger'] = rolling_mid + BOLLINGER_WIDTH*rolling_std\n",
        "aapl_df['lower_bollinger'] = rolling_mid - BOLLINGER_WIDTH*rolling_std\n",
        "\n",
        "aapl_df.dropna(inplace=True)\n",
        "aapl_df"
      ]
    },
    {
      "cell_type": "code",
      "execution_count": 4,
      "metadata": {
        "id": "MKdpMT_WhYkM"
      },
      "outputs": [
        {
          "name": "stdout",
          "output_type": "stream",
          "text": [
            "Requirement already satisfied: qfinuwa in /Users/zacharycheng/opt/miniconda3/lib/python3.9/site-packages (1.1.4.2)\n",
            "Requirement already satisfied: tabulate in /Users/zacharycheng/opt/miniconda3/lib/python3.9/site-packages (from qfinuwa) (0.9.0)\n",
            "Requirement already satisfied: tqdm in /Users/zacharycheng/opt/miniconda3/lib/python3.9/site-packages (from qfinuwa) (4.65.0)\n",
            "Requirement already satisfied: requests in /Users/zacharycheng/opt/miniconda3/lib/python3.9/site-packages (from qfinuwa) (2.28.2)\n",
            "Requirement already satisfied: bokeh in /Users/zacharycheng/opt/miniconda3/lib/python3.9/site-packages (from qfinuwa) (3.1.0)\n",
            "Requirement already satisfied: pandas>=1.2 in /Users/zacharycheng/opt/miniconda3/lib/python3.9/site-packages (from bokeh->qfinuwa) (1.5.3)\n",
            "Requirement already satisfied: packaging>=16.8 in /Users/zacharycheng/opt/miniconda3/lib/python3.9/site-packages (from bokeh->qfinuwa) (23.0)\n",
            "Requirement already satisfied: Jinja2>=2.9 in /Users/zacharycheng/opt/miniconda3/lib/python3.9/site-packages (from bokeh->qfinuwa) (3.1.2)\n",
            "Requirement already satisfied: pillow>=7.1.0 in /Users/zacharycheng/opt/miniconda3/lib/python3.9/site-packages (from bokeh->qfinuwa) (9.4.0)\n",
            "Requirement already satisfied: numpy>=1.16 in /Users/zacharycheng/opt/miniconda3/lib/python3.9/site-packages (from bokeh->qfinuwa) (1.23.3)\n",
            "Requirement already satisfied: tornado>=5.1 in /Users/zacharycheng/opt/miniconda3/lib/python3.9/site-packages (from bokeh->qfinuwa) (6.1)\n",
            "Requirement already satisfied: contourpy>=1 in /Users/zacharycheng/opt/miniconda3/lib/python3.9/site-packages (from bokeh->qfinuwa) (1.0.7)\n",
            "Requirement already satisfied: PyYAML>=3.10 in /Users/zacharycheng/opt/miniconda3/lib/python3.9/site-packages (from bokeh->qfinuwa) (6.0)\n",
            "Requirement already satisfied: xyzservices>=2021.09.1 in /Users/zacharycheng/opt/miniconda3/lib/python3.9/site-packages (from bokeh->qfinuwa) (2023.2.0)\n",
            "Requirement already satisfied: MarkupSafe>=2.0 in /Users/zacharycheng/opt/miniconda3/lib/python3.9/site-packages (from Jinja2>=2.9->bokeh->qfinuwa) (2.1.2)\n",
            "Requirement already satisfied: pytz>=2020.1 in /Users/zacharycheng/opt/miniconda3/lib/python3.9/site-packages (from pandas>=1.2->bokeh->qfinuwa) (2022.4)\n",
            "Requirement already satisfied: python-dateutil>=2.8.1 in /Users/zacharycheng/opt/miniconda3/lib/python3.9/site-packages (from pandas>=1.2->bokeh->qfinuwa) (2.8.2)\n",
            "Requirement already satisfied: six>=1.5 in /Users/zacharycheng/opt/miniconda3/lib/python3.9/site-packages (from python-dateutil>=2.8.1->pandas>=1.2->bokeh->qfinuwa) (1.16.0)\n",
            "Requirement already satisfied: urllib3<1.27,>=1.21.1 in /Users/zacharycheng/opt/miniconda3/lib/python3.9/site-packages (from requests->qfinuwa) (1.26.9)\n",
            "Requirement already satisfied: certifi>=2017.4.17 in /Users/zacharycheng/opt/miniconda3/lib/python3.9/site-packages (from requests->qfinuwa) (2022.12.7)\n",
            "Requirement already satisfied: charset-normalizer<4,>=2 in /Users/zacharycheng/opt/miniconda3/lib/python3.9/site-packages (from requests->qfinuwa) (2.0.4)\n",
            "Requirement already satisfied: idna<4,>=2.5 in /Users/zacharycheng/opt/miniconda3/lib/python3.9/site-packages (from requests->qfinuwa) (3.3)\n",
            "Note: you may need to restart the kernel to use updated packages.\n"
          ]
        }
      ],
      "source": [
        "%pip install qfinuwa"
      ]
    },
    {
      "cell_type": "markdown",
      "metadata": {
        "id": "DTofYrnMhYkN"
      },
      "source": [
        "### Pulling Data with the API"
      ]
    },
    {
      "cell_type": "code",
      "execution_count": 5,
      "metadata": {
        "id": "9dd_ZjvnhYkN"
      },
      "outputs": [],
      "source": [
        "from qfinuwa import API"
      ]
    },
    {
      "cell_type": "code",
      "execution_count": 6,
      "metadata": {
        "id": "F1MQ3SMIhYkO"
      },
      "outputs": [],
      "source": [
        "# API.fetch_stocks(['AAPL', 'TSLA', 'GOOG'], 'API_key.txt', './data')"
      ]
    },
    {
      "cell_type": "markdown",
      "metadata": {
        "id": "NhwIbixChYkO"
      },
      "source": [
        "### Implement with QFin Backtester"
      ]
    },
    {
      "cell_type": "code",
      "execution_count": 7,
      "metadata": {
        "id": "JmFkf5UkhYkP"
      },
      "outputs": [],
      "source": [
        "from qfinuwa import Indicators"
      ]
    },
    {
      "cell_type": "code",
      "execution_count": 8,
      "metadata": {
        "id": "OhBr7W5zhYkP"
      },
      "outputs": [],
      "source": [
        "\n",
        "# Extend base indicator class\n",
        "\n",
        "class CustomIndicators(Indicators):\n",
        "    \n",
        "    ...\n",
        "\n"
      ]
    },
    {
      "cell_type": "markdown",
      "metadata": {
        "id": "DL2HwQThhYkQ"
      },
      "source": [
        "\n",
        "\n",
        "The backtester expects indicators to be a function that takes in data (``pd.DataFrame(s)``) and return indicators. \n",
        "\n",
        "There are two types of indicators in the backtester - SingleIndicators and MultiIndicators.\n",
        "\n",
        "### Multi-Indicators\n",
        "\n",
        "A multi-indicator takes in a single signal (price of an arbitary stock) and outputs a transformation of that stock.\n",
        "\n",
        "```py\n",
        "f(stock) -> (indicator on stock)\n",
        "``` \n",
        "\n",
        "It is called ``MultiIndicator`` because the indicator will have multiple values (one for each stock)"
      ]
    },
    {
      "cell_type": "code",
      "execution_count": 9,
      "metadata": {
        "id": "FJIMDTuPhYkQ"
      },
      "outputs": [],
      "source": [
        "import pandas as pd\n",
        "class CustomIndicators(Indicators):\n",
        "    \n",
        "    @Indicators.MultiIndicator\n",
        "    def bollinger_bands(self, stock: pd.DataFrame):\n",
        "        BOLLINGER_WIDTH = 2\n",
        "        WINDOW_SIZE = 100\n",
        "        \n",
        "        mid_price = (stock['high'] + stock['low']) / 2\n",
        "        rolling_mid = mid_price.rolling(WINDOW_SIZE).mean()\n",
        "        rolling_std = mid_price.rolling(WINDOW_SIZE).std()\n",
        "\n",
        "        return {\"upper_bollinger\": rolling_mid + BOLLINGER_WIDTH*rolling_std,\n",
        "                \"lower_bollinger\": rolling_mid - BOLLINGER_WIDTH*rolling_std}"
      ]
    },
    {
      "cell_type": "markdown",
      "metadata": {
        "id": "YM9yLsofhYkR"
      },
      "source": [
        "### Testing Multi Indicator"
      ]
    },
    {
      "cell_type": "code",
      "execution_count": 10,
      "metadata": {
        "id": "AsG9d7zJhYkR"
      },
      "outputs": [],
      "source": [
        "\n",
        "# indicators = CustomIndicators(data='./data')\n",
        "\n",
        "# indicator_values = indicators.indicator_values()\n",
        "\n",
        "# indicator_values[\"upper_bollinger\"], type(indicator_values[\"upper_bollinger\"])\n",
        "# indicator_values[\"lower_bollinger\"], type(indicator_values[\"lower_bollinger\"])"
      ]
    },
    {
      "cell_type": "code",
      "execution_count": 11,
      "metadata": {
        "id": "Jglg6t1mhYkR"
      },
      "outputs": [],
      "source": [
        "# indicator_values[\"upper_bollinger\"]['AAPL']"
      ]
    },
    {
      "cell_type": "markdown",
      "metadata": {
        "id": "8hz1dAKGhYkS"
      },
      "source": [
        "### Plotting"
      ]
    },
    {
      "cell_type": "code",
      "execution_count": 12,
      "metadata": {
        "id": "Qw3xL_PRhYkS"
      },
      "outputs": [],
      "source": [
        "# import matplotlib.pyplot as plt\n",
        "\n",
        "# plt.plot(indicators.index,  indicator_values[\"upper_bollinger\"]['AAPL'])\n",
        "# plt.plot(indicators.index,  indicator_values[\"lower_bollinger\"]['AAPL'])"
      ]
    },
    {
      "cell_type": "markdown",
      "metadata": {
        "id": "YYDfQEUphYkT"
      },
      "source": [
        "### SingleIndicator\n",
        "\n",
        "Similar to ``MultiIndicator``, ``SingleIndicator`` is implemented as a function that takes in stock data and returns an indicator or indicators.\n",
        "\n",
        "```py\n",
        "f(list_of_stocks) -> (single indicator on stocks)\n",
        "``` \n",
        "\n",
        "It is called ``SingleIndicator`` because there is only a single signal."
      ]
    },
    {
      "cell_type": "code",
      "execution_count": 13,
      "metadata": {
        "id": "9WREfI3KhYkT"
      },
      "outputs": [],
      "source": [
        "class CustomIndicators(Indicators):\n",
        "    \n",
        "    @Indicators.MultiIndicator\n",
        "    def bollinger_bands(self, stock: pd.DataFrame):\n",
        "        BOLLINGER_WIDTH = 2\n",
        "        WINDOW_SIZE = 100\n",
        "        \n",
        "        mid_price = (stock['high'] + stock['low']) / 2\n",
        "        rolling_mid = mid_price.rolling(WINDOW_SIZE).mean()\n",
        "        rolling_std = mid_price.rolling(WINDOW_SIZE).std()\n",
        "\n",
        "        return {\"upper_bollinger\": rolling_mid + BOLLINGER_WIDTH*rolling_std,\n",
        "                \"lower_bollinger\": rolling_mid - BOLLINGER_WIDTH*rolling_std}\n",
        "    \n",
        "    @Indicators.SingleIndicator\n",
        "    def etf(self, stock: dict):\n",
        "\n",
        "        apple = 0.2\n",
        "        tsla = 0.5\n",
        "        goog = 0.3\n",
        "\n",
        "        return {'etf': apple*stock['AAPL'] + tsla*stock['TSLA'] + goog*stock['GOOG']}\n"
      ]
    },
    {
      "cell_type": "code",
      "execution_count": 14,
      "metadata": {
        "id": "jlPUzz0thYkU"
      },
      "outputs": [
        {
          "ename": "TypeError",
          "evalue": "'NoneType' object is not iterable",
          "output_type": "error",
          "traceback": [
            "\u001b[0;31m---------------------------------------------------------------------------\u001b[0m",
            "\u001b[0;31mTypeError\u001b[0m                                 Traceback (most recent call last)",
            "Cell \u001b[0;32mIn[14], line 1\u001b[0m\n\u001b[0;32m----> 1\u001b[0m indicators \u001b[39m=\u001b[39m CustomIndicators(data\u001b[39m=\u001b[39;49m\u001b[39m'\u001b[39;49m\u001b[39m./data\u001b[39;49m\u001b[39m'\u001b[39;49m)\n\u001b[1;32m      3\u001b[0m indicator_values \u001b[39m=\u001b[39m indicators\u001b[39m.\u001b[39mindicator_values()\n\u001b[1;32m      4\u001b[0m indicator_values\u001b[39m.\u001b[39mkeys()\n",
            "File \u001b[0;32m~/opt/miniconda3/lib/python3.9/site-packages/qfinuwa/indicators.py:99\u001b[0m, in \u001b[0;36mIndicators.__init__\u001b[0;34m(self, data)\u001b[0m\n\u001b[1;32m     97\u001b[0m     \u001b[39mreturn\u001b[39;00m\n\u001b[1;32m     98\u001b[0m \u001b[39melif\u001b[39;00m \u001b[39misinstance\u001b[39m(data, \u001b[39mstr\u001b[39m):\n\u001b[0;32m---> 99\u001b[0m     stockdata \u001b[39m=\u001b[39m StockData(data_folder\u001b[39m=\u001b[39;49mdata)\n\u001b[1;32m    100\u001b[0m \u001b[39melif\u001b[39;00m \u001b[39misinstance\u001b[39m(data, StockData):\n\u001b[1;32m    101\u001b[0m     stockdata \u001b[39m=\u001b[39m data\n",
            "File \u001b[0;32m~/opt/miniconda3/lib/python3.9/site-packages/qfinuwa/opt/_stockdata.py:44\u001b[0m, in \u001b[0;36mStockData.__init__\u001b[0;34m(self, data_folder, stocks, verbose)\u001b[0m\n\u001b[1;32m     39\u001b[0m     stock \u001b[39m=\u001b[39m [f\u001b[39m.\u001b[39msplit(\u001b[39m'\u001b[39m\u001b[39m.\u001b[39m\u001b[39m'\u001b[39m)[\u001b[39m0\u001b[39m] \u001b[39mfor\u001b[39;00m f \u001b[39min\u001b[39;00m os\u001b[39m.\u001b[39mlistdir(data_folder) \u001b[39mif\u001b[39;00m f\u001b[39m.\u001b[39mendswith(\u001b[39m'\u001b[39m\u001b[39m.csv\u001b[39m\u001b[39m'\u001b[39m)]\n\u001b[1;32m     41\u001b[0m \u001b[39m# if len(stocks) == 0:\u001b[39;00m\n\u001b[1;32m     42\u001b[0m \u001b[39m#     raise ValueError('No stocks provided')\u001b[39;00m\n\u001b[0;32m---> 44\u001b[0m \u001b[39mself\u001b[39m\u001b[39m.\u001b[39m_stocks \u001b[39m=\u001b[39m \u001b[39msorted\u001b[39;49m(stocks)\n\u001b[1;32m     45\u001b[0m \u001b[39m# stocks + ['SPY']\u001b[39;00m\n\u001b[1;32m     46\u001b[0m \u001b[39mfor\u001b[39;00m stock \u001b[39min\u001b[39;00m (tqdm(stocks, desc\u001b[39m=\u001b[39m\u001b[39m'\u001b[39m\u001b[39m> Fetching data\u001b[39m\u001b[39m'\u001b[39m) \u001b[39mif\u001b[39;00m verbose \u001b[39melse\u001b[39;00m stocks):\n",
            "\u001b[0;31mTypeError\u001b[0m: 'NoneType' object is not iterable"
          ]
        }
      ],
      "source": [
        "indicators = CustomIndicators(data='./data')\n",
        "\n",
        "indicator_values = indicators.indicator_values()\n",
        "indicator_values.keys()"
      ]
    },
    {
      "cell_type": "code",
      "execution_count": null,
      "metadata": {
        "id": "Sq-_iULthYkU"
      },
      "outputs": [],
      "source": [
        "\n",
        "print(type(indicator_values[\"etf\"]))\n",
        "\n",
        "print(type(indicator_values[\"upper_bollinger\"]))\n",
        "print(type(indicator_values[\"upper_bollinger\"]['AAPL']))"
      ]
    },
    {
      "cell_type": "markdown",
      "metadata": {
        "id": "k3F-_uBdhYkV"
      },
      "source": [
        "### Hyperparameters\n",
        "\n",
        "Notice in each indicator we have some constant values that are arbitarily chosen. We might choose to optimise those parameters on our training data.\n",
        "\n",
        "\n",
        "The Backtester can do this for you, if you format them with ``kwargs``.\n",
        "\n",
        "Each ``function`` you implemented acts as a \"indicator parameter group\", where the paramters attached to it affect the indicators returned by it."
      ]
    },
    {
      "cell_type": "code",
      "execution_count": null,
      "metadata": {
        "id": "CHW227iThYkV"
      },
      "outputs": [],
      "source": [
        "class CustomIndicators(Indicators):\n",
        "    \n",
        "    @Indicators.MultiIndicator\n",
        "    def bollinger_bands(self, stock: pd.DataFrame, BOLLINGER_WIDTH = 2, WINDOW_SIZE = 100):\n",
        "\n",
        "        mid_price = (stock['high'] + stock['low']) / 2\n",
        "        rolling_mid = mid_price.rolling(WINDOW_SIZE).mean()\n",
        "        rolling_std = mid_price.rolling(WINDOW_SIZE).std()\n",
        "\n",
        "        return {\"upper_bollinger\": rolling_mid + BOLLINGER_WIDTH*rolling_std,\n",
        "                \"lower_bollinger\": rolling_mid - BOLLINGER_WIDTH*rolling_std}\n",
        "    \n",
        "    @Indicators.SingleIndicator\n",
        "    def etf(self, stock: dict, apple = 0.2, tsla = 0.5, goog = 0.3):\n",
        "\n",
        "        return {'etf':  apple*stock['AAPL']['close'] + \\\n",
        "                        tsla*stock['TSLA']['close'] +\\\n",
        "                        goog*stock['GOOG']['close']}"
      ]
    },
    {
      "cell_type": "code",
      "execution_count": null,
      "metadata": {
        "id": "kxGdMHxXhYkW"
      },
      "outputs": [],
      "source": [
        "## SIDENOTE: KEYWORD ARGS\n",
        "\n",
        "def foo(a, b, c):\n",
        "    print(a, b, c)\n",
        "\n",
        "foo(1, 2, 3)\n",
        "\n",
        "def foo_kwarg(a, b=2, c=3):\n",
        "    print(a, b, c)\n",
        "\n",
        "foo_kwarg(1)"
      ]
    },
    {
      "cell_type": "code",
      "execution_count": null,
      "metadata": {
        "id": "yGv2jaCuhYkW"
      },
      "outputs": [],
      "source": [
        "indicators = CustomIndicators(stockdata='./data')\n",
        "\n",
        "indicators.defaults"
      ]
    },
    {
      "cell_type": "code",
      "execution_count": null,
      "metadata": {
        "id": "B_jPqNMlhYkW"
      },
      "outputs": [],
      "source": [
        "indicators.indicator_values()['etf']"
      ]
    },
    {
      "cell_type": "code",
      "execution_count": null,
      "metadata": {
        "id": "nDetv2_ShYkW"
      },
      "outputs": [],
      "source": [
        "indicators.update_parameters({'etf': {'apple': 0.5, 'tsla': 0.2, 'goog': 0.3}})\n",
        "\n",
        "indicators.indicator_values()['etf']"
      ]
    },
    {
      "cell_type": "markdown",
      "metadata": {
        "id": "K4Yeue87hYkX"
      },
      "source": [
        "### Now Make Your Own!"
      ]
    },
    {
      "cell_type": "code",
      "execution_count": null,
      "metadata": {
        "id": "NyywGVnWhYkX"
      },
      "outputs": [],
      "source": [
        "class MyIndicator(Indicators):\n",
        "    ..."
      ]
    }
  ],
  "metadata": {
    "colab": {
      "provenance": []
    },
    "kernelspec": {
      "display_name": "qfin",
      "language": "python",
      "name": "python3"
    },
    "language_info": {
      "codemirror_mode": {
        "name": "ipython",
        "version": 3
      },
      "file_extension": ".py",
      "mimetype": "text/x-python",
      "name": "python",
      "nbconvert_exporter": "python",
      "pygments_lexer": "ipython3",
      "version": "3.9.12"
    },
    "orig_nbformat": 4
  },
  "nbformat": 4,
  "nbformat_minor": 0
}
