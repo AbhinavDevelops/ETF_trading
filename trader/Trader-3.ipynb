{
 "cells": [
  {
   "cell_type": "code",
   "execution_count": null,
   "metadata": {},
   "outputs": [],
   "source": [
    "pip uninstall -y qfinuwa"
   ]
  },
  {
   "cell_type": "code",
   "execution_count": null,
   "metadata": {},
   "outputs": [],
   "source": [
    "!pip install qfinuwa"
   ]
  },
  {
   "cell_type": "code",
   "execution_count": 2,
   "metadata": {},
   "outputs": [],
   "source": [
    "import pandas as pd\n",
    "from qfinuwa import Indicators, Strategy, Backtester, Plotting"
   ]
  },
  {
   "cell_type": "code",
   "execution_count": 23,
   "metadata": {},
   "outputs": [],
   "source": [
    "class CustomIndicators(Indicators):\n",
    "\n",
    "    @Indicators.SingleIndicator\n",
    "    def pairs_ratio(self, stocks, WINDOW_SIZE = 30):\n",
    "        vgt_mid_price = (stocks['VGT']['high'] + stocks['VGT']['low']) / 2\n",
    "        iyw_mid_price = (stocks['IYW']['high'] + stocks['IYW']['low']) / 2\n",
    "    \n",
    "        price_ratio = vgt_mid_price / iyw_mid_price\n",
    "\n",
    "        rolling_mean = price_ratio.rolling(window=WINDOW_SIZE).mean()\n",
    "        rolling_std = price_ratio.rolling(window=WINDOW_SIZE).std()\n",
    "        z_score = (price_ratio - rolling_mean) / rolling_std\n",
    "\n",
    "        #calculates cmf\n",
    "        mfm = ((data['close'] - data['low']) - (data['high'] - data['close'])) / (data['high'] - data['low'])\n",
    "        mf_volume = mfm * data['volume']\n",
    "        cmf = mf_volume.rolling(window=period).sum() / data['volume'].rolling(window=period).sum()\n",
    "        return {\"z_score\" : z_score, \"cmf\" : cmf}\n",
    "    \n",
    "    @Indicators.SingleIndicator\n",
    "    def cmf(self, stocks, stock, WINDOW_SIZE=30, CMF_PERIOD=20):\n",
    "        stock_mid_price = (stocks[stock]['high'] + stocks[stock]['low']) / 2\n",
    "\n",
    "\n",
    "        # calculate CMF\n",
    "        mfm = ((2 * stock_mid_price - stocks[stock]['low'] - stocks[stock]['high']) / (stocks[stock]['high'] - stocks[stock]['low']))\n",
    "        mf_volume = mfm * stocks[stock]['volume']\n",
    "        cmf = mf_volume.rolling(window=CMF_PERIOD).sum() / stocks[stock]['volume'].rolling(window=CMF_PERIOD).sum()\n",
    "\n",
    "        return {\"cmf\": cmf}\n",
    "    \n",
    "    @Indicators.SingleIndicator\n",
    "    def rsi(self, stocks, stock, WINDOW_SIZE=14):\n",
    "        # create mid prices variable\n",
    "        prices = (stocks[stock]['high'] + stocks[stock]['low']) / 2\n",
    "        #calculate the period \n",
    "        period = WINDOW_SIZE\n",
    "        gains = []\n",
    "        losses = []\n",
    "        for i in range(1, len(prices)):\n",
    "            diff = prices[i] - prices[i - 1]\n",
    "            if diff >= 0:\n",
    "                gains.append(diff)\n",
    "                losses.append(0)\n",
    "            else:\n",
    "                gains.append(0)\n",
    "                losses.append(abs(diff))\n",
    "\n",
    "        def simple_moving_average(prices, window):\n",
    "            return [sum(prices[i:i + window]) / window for i in range(len(prices) - window + 1)]\n",
    "        avg_gains = simple_moving_average(gains, period)\n",
    "        avg_losses = simple_moving_average(losses, period)\n",
    "\n",
    "        rsi = [g / l if l != 0 else 0 for g, l in zip(avg_gains, avg_losses)]\n",
    "        return {\"rsi\": rsi}\n",
    "   "
   ]
  },
  {
   "cell_type": "code",
   "execution_count": 16,
   "metadata": {},
   "outputs": [],
   "source": [
    "ci = CustomIndicators()\n",
    "data = ['VGT', 'IYW']\n",
    "stocks = {d: pd.read_csv('../data/' + d + '.csv') for d in data}\n",
    "z_score = ci.pairs_ratio(stocks)"
   ]
  },
  {
   "cell_type": "code",
   "execution_count": 18,
   "metadata": {},
   "outputs": [],
   "source": [
    "class PairsTrading(Strategy):\n",
    "\n",
    "    def __init__(self, quantity=5):\n",
    "        self.quantity = quantity\n",
    "        self.vgt_position = 0\n",
    "        self.iyw_position = 0\n",
    "\n",
    "    def on_data(self, prices, indicators, portfolio): \n",
    "        # On average, VGT is 4.05 times more expensive than IYW\n",
    "\n",
    "        # If z_score is greater than 3, buy VGT and sell IYW\n",
    "        if indicators['z_score'][-1] > 3 and abs(self.vgt_position < 250):\n",
    "            portfolio.order('VGT', quantity = self.quantity)\n",
    "            portfolio.order('IYW', quantity = -4*self.quantity)\n",
    "            self.vgt_position += self.quantity\n",
    "            self.iyw_position -= self.quantity\n",
    "        \n",
    "        # If z_score is greater than 1.5, buy VGT and sell IYW to half delta limit\n",
    "        if indicators['z_score'][-1] > 1.5 and abs(self.vgt_position < 125) and abs(self.iyw_position < 500):\n",
    "            portfolio.order('VGT', quantity = self.quantity)\n",
    "            portfolio.order('IYW', quantity = -4*self.quantity)\n",
    "            self.vgt_position += self.quantity\n",
    "            self.iyw_position -= self.quantity\n",
    "        \n",
    "        # If z_score is less than -3, buy IYW and sell VGT\n",
    "        elif indicators['z_score'][-1] < -3 and abs(self.vgt_position < 250):\n",
    "            portfolio.order('VGT', quantity = -self.quantity)\n",
    "            portfolio.order('IYW', quantity = 4*self.quantity)\n",
    "            self.vgt_position -= self.quantity\n",
    "            self.iyw_position += self.quantity\n",
    "\n",
    "        # If z_score is less than -1.5, buy IYW and sell VGT to half delta limit\n",
    "        elif indicators['z_score'][-1] < -1.5 and abs(self.vgt_position < 125) and abs(self.iyw_position < 500):\n",
    "            portfolio.order('VGT', quantity = -self.quantity)\n",
    "            portfolio.order('IYW', quantity = 4*self.quantity)\n",
    "            self.vgt_position -= self.quantity\n",
    "            self.iyw_position += self.quantity\n",
    "        \n",
    "        # If z_score is between -0.5 and 0.5, exit positions\n",
    "        elif abs(indicators['z_score'][-1]) < 0.5:\n",
    "            portfolio.order('VGT', quantity = -self.vgt_position)\n",
    "            portfolio.order('IYW', quantity = -self.iyw_position)\n",
    "        return\n",
    "    \n",
    "    def on_finish(self):\n",
    "        return self.vgt_position, self.iyw_position\n",
    "        "
   ]
  },
  {
   "cell_type": "code",
   "execution_count": 24,
   "metadata": {},
   "outputs": [
    {
     "name": "stderr",
     "output_type": "stream",
     "text": [
      "> Fetching data: 100%|██████████| 2/2 [00:02<00:00,  1.14s/it]\n",
      "> Precompiling data: 100%|██████████| 431430/431430 [00:04<00:00, 88572.36it/s]\n"
     ]
    },
    {
     "data": {
      "text/plain": [
       "Backtester:\n",
       "- Strategy: PairsTrading\n",
       "\t- Params: {'quantity': 5}\n",
       "- Indicators: CustomIndicators\n",
       "\t- Params: {'pairs_ratio': {'WINDOW_SIZE': 30}}\n",
       "\t- SingleIndicators: ['z_score']\n",
       "\t- MultiIndicators: []\n",
       "- Stocks: ['IYW', 'VGT']\n",
       "- Fee 0.0\n",
       "- delta_limit: {'IYW': 1000, 'VGT': 1000}\n",
       "- Days: 30"
      ]
     },
     "execution_count": 24,
     "metadata": {},
     "output_type": "execute_result"
    }
   ],
   "source": [
    "backtester = Backtester(PairsTrading, CustomIndicators, ['VGT', 'IYW'], data_folder='../data', days=30, fee=0.000, delta_limits=1000)\n",
    "backtester"
   ]
  },
  {
   "cell_type": "code",
   "execution_count": 22,
   "metadata": {},
   "outputs": [
    {
     "name": "stderr",
     "output_type": "stream",
     "text": [
      "> Running backtest over 20 samples of 30 days: 100%|██████████| 20/20 [00:17<00:00,  1.15it/s]\n"
     ]
    },
    {
     "data": {
      "text/plain": [
       "\n",
       "{'strategy': {'quantity': 5}, 'indicator': {'bollinger_bands': {'BOLLINGER_WIDTH': 2, 'WINDOW_SIZE': 50}, 'pairs_ratio': {'WINDOW_SIZE': 30}}}\n",
       "\n",
       "Mean ROI:\t177822.08115587564\n",
       "STD ROI:\t108159.84676288172\n",
       "\n",
       "24/09/2021 -> 22/10/2021:\t317491.111\n",
       "17/08/2021 -> 15/09/2021:\t216076.202\n",
       "10/11/2021 -> 09/12/2021:\t218087.453\n",
       "20/09/2022 -> 19/10/2022:\t-4060.716\n",
       "29/03/2022 -> 27/04/2022:\t-27283.747\n",
       "28/02/2022 -> 29/03/2022:\t184838.585\n",
       "04/11/2021 -> 03/12/2021:\t302253.151\n",
       "21/07/2022 -> 19/08/2022:\t183110.104\n",
       "11/06/2021 -> 09/07/2021:\t203065.691\n",
       "19/07/2021 -> 17/08/2021:\t127236.560\n",
       "01/03/2022 -> 30/03/2022:\t117734.760\n",
       "26/11/2021 -> 24/12/2021:\t266104.849\n",
       "24/08/2022 -> 22/09/2022:\t93825.989\n",
       "17/09/2021 -> 15/10/2021:\t323980.553\n",
       "22/07/2022 -> 19/08/2022:\t-12033.717\n",
       "06/04/2022 -> 05/05/2022:\t156971.428\n",
       "29/07/2021 -> 27/08/2021:\t277042.933\n",
       "03/06/2022 -> 01/07/2022:\t64916.537\n",
       "10/05/2022 -> 08/06/2022:\t262277.281\n",
       "25/07/2022 -> 23/08/2022:\t284806.616\n",
       "\n",
       "AVERAGED RESULTS FOR 20 RUNS:\n",
       "|               |     IYW |      VGT |    Net |\n",
       "|---------------|---------|----------|--------|\n",
       "| n_trades      |  289.25 |      404 | 693.25 |\n",
       "| n_buys        |   114.9 |   250.55 | 365.45 |\n",
       "| n_sells       |  174.35 |   153.45 |  327.8 |\n",
       "| gross_pnl     |  213466 |   -35644 | 177822 |\n",
       "| fees_paid     |       0 |        0 |      0 |\n",
       "| net_pnl       |  213466 |   -35644 | 177822 |\n",
       "| pnl_per_trade | 954.772 | -103.991 | 351.47 |"
      ]
     },
     "execution_count": 22,
     "metadata": {},
     "output_type": "execute_result"
    }
   ],
   "source": [
    "backtester.run(cv=20)"
   ]
  },
  {
   "cell_type": "code",
   "execution_count": 69,
   "metadata": {},
   "outputs": [
    {
     "name": "stdout",
     "output_type": "stream",
     "text": [
      "> Backtesting the across the following ranges:\n",
      "Agorithm Parameters {'quantity': [5, 10]}\n",
      "Indicator Parameters {'bollinger_bands': {'BOLLINGER_WIDTH': 2, 'WINDOW_SIZE': 50}, 'pairs_ratio': {'WINDOW_SIZE': [10, 30, 50, 100]}}\n"
     ]
    },
    {
     "name": "stderr",
     "output_type": "stream",
     "text": [
      "Running paramter sweep (cv=20): 100%|██████████| 8/8 [02:00<00:00, 15.05s/it]\n"
     ]
    },
    {
     "data": {
      "text/plain": [
       "Best parameter results:\n",
       "\n",
       "{'strategy': {'quantity': 5}, 'indicator': {'bollinger_bands': {'BOLLINGER_WIDTH': 2, 'WINDOW_SIZE': 50}, 'pairs_ratio': {'WINDOW_SIZE': 30}}}\n",
       "\n",
       "Mean ROI:\t156909.20364754897\n",
       "STD ROI:\t93090.73333407863\n",
       "\n",
       "24/05/2022 -> 22/06/2022:\t27583.434\n",
       "22/07/2022 -> 19/08/2022:\t-12033.717\n",
       "05/05/2022 -> 03/06/2022:\t171005.386\n",
       "19/07/2022 -> 17/08/2022:\t270222.067\n",
       "04/03/2022 -> 01/04/2022:\t138562.573\n",
       "28/01/2022 -> 25/02/2022:\t59917.444\n",
       "27/07/2021 -> 25/08/2021:\t21183.580\n",
       "29/09/2021 -> 28/10/2021:\t316272.082\n",
       "22/07/2021 -> 20/08/2021:\t201960.922\n",
       "15/06/2021 -> 14/07/2021:\t174107.061\n",
       "26/07/2022 -> 24/08/2022:\t238021.482\n",
       "09/02/2022 -> 10/03/2022:\t162223.991\n",
       "07/02/2022 -> 08/03/2022:\t109613.841\n",
       "03/08/2022 -> 01/09/2022:\t241547.968\n",
       "18/03/2022 -> 15/04/2022:\t220591.896\n",
       "17/09/2021 -> 15/10/2021:\t323980.553\n",
       "09/04/2021 -> 07/05/2021:\t108221.926\n",
       "20/04/2021 -> 19/05/2021:\t128155.390\n",
       "04/01/2022 -> 02/02/2022:\t68501.283\n",
       "07/09/2021 -> 06/10/2021:\t168544.909\n",
       "\n",
       "AVERAGED RESULTS FOR 20 RUNS:\n",
       "|               |     IYW |      VGT |     Net |\n",
       "|---------------|---------|----------|---------|\n",
       "| n_trades      |  293.35 |   402.35 |   695.7 |\n",
       "| n_buys        |  111.95 |    258.3 |  370.25 |\n",
       "| n_sells       |   181.4 |   144.05 |  325.45 |\n",
       "| gross_pnl     |  181476 | -24566.7 |  156909 |\n",
       "| fees_paid     |       0 |        0 |       0 |\n",
       "| net_pnl       |  181476 | -24566.7 |  156909 |\n",
       "| pnl_per_trade | 760.576 | -73.1648 | 293.253 |"
      ]
     },
     "execution_count": 69,
     "metadata": {},
     "output_type": "execute_result"
    }
   ],
   "source": [
    "backtester.run_grid_search(\n",
    "    strategy_params={'quantity': [5, 10]},\n",
    "    indicator_params={'pairs_ratio': {'WINDOW_SIZE': [10, 30, 50, 100]}},\n",
    "    cv=20)"
   ]
  },
  {
   "cell_type": "code",
   "execution_count": null,
   "metadata": {},
   "outputs": [],
   "source": []
  }
 ],
 "metadata": {
  "kernelspec": {
   "display_name": "Python 3",
   "language": "python",
   "name": "python3"
  },
  "language_info": {
   "codemirror_mode": {
    "name": "ipython",
    "version": 3
   },
   "file_extension": ".py",
   "mimetype": "text/x-python",
   "name": "python",
   "nbconvert_exporter": "python",
   "pygments_lexer": "ipython3",
   "version": "3.10.6"
  },
  "orig_nbformat": 4
 },
 "nbformat": 4,
 "nbformat_minor": 2
}
