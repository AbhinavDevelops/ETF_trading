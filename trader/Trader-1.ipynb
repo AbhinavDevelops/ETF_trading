{
 "cells": [
  {
   "cell_type": "code",
   "execution_count": null,
   "metadata": {},
   "outputs": [],
   "source": [
    "pip uninstall -y qfinuwa"
   ]
  },
  {
   "cell_type": "code",
   "execution_count": null,
   "metadata": {},
   "outputs": [],
   "source": [
    "!pip install qfinuwa"
   ]
  },
  {
   "cell_type": "code",
   "execution_count": 1,
   "metadata": {},
   "outputs": [],
   "source": [
    "import pandas as pd\n",
    "from qfinuwa import Indicators, Strategy, Backtester, Plotting"
   ]
  },
  {
   "cell_type": "code",
   "execution_count": 52,
   "metadata": {},
   "outputs": [],
   "source": [
    "class CustomIndicators(Indicators):\n",
    "    \n",
    "    @Indicators.MultiIndicator\n",
    "    def bollinger_bands(self, stock, BOLLINGER_WIDTH = 2, WINDOW_SIZE = 50):\n",
    "\n",
    "        mid_price = (stock['high'] + stock['low']) / 2\n",
    "        rolling_mid = mid_price.rolling(WINDOW_SIZE).mean()\n",
    "        rolling_std = mid_price.rolling(WINDOW_SIZE).std()\n",
    "\n",
    "        return {\"upper_bollinger\": rolling_mid + BOLLINGER_WIDTH*rolling_std,\n",
    "                \"lower_bollinger\": rolling_mid - BOLLINGER_WIDTH*rolling_std}\n",
    "\n",
    "    @Indicators.SingleIndicator\n",
    "    def pairs_ratio(self, stocks, WINDOW_SIZE = 30):\n",
    "        vgt_mid_price = (stocks['VGT']['high'] + stocks['VGT']['low']) / 2\n",
    "        iyw_mid_price = (stocks['IYW']['high'] + stocks['IYW']['low']) / 2\n",
    "    \n",
    "        price_ratio = vgt_mid_price / iyw_mid_price\n",
    "\n",
    "        rolling_mean = price_ratio.rolling(window=WINDOW_SIZE).mean()\n",
    "        rolling_std = price_ratio.rolling(window=WINDOW_SIZE).std()\n",
    "        z_score = (price_ratio - rolling_mean) / rolling_std\n",
    "        return {\"z_score\" : z_score}"
   ]
  },
  {
   "cell_type": "code",
   "execution_count": 36,
   "metadata": {},
   "outputs": [
    {
     "data": {
      "text/plain": [
       "count    431143.000000\n",
       "mean         -0.026137\n",
       "std           1.464486\n",
       "min          -5.561893\n",
       "25%          -1.646939\n",
       "50%          -0.049239\n",
       "75%           1.647012\n",
       "max           5.294654\n",
       "dtype: float64"
      ]
     },
     "execution_count": 36,
     "metadata": {},
     "output_type": "execute_result"
    }
   ],
   "source": [
    "ci = CustomIndicators()\n",
    "data = ['VGT', 'IYW']\n",
    "stocks = {d: pd.read_csv('data/' + d + '.csv') for d in data}\n",
    "z_score = ci.pairs_ratio(stocks)\n",
    "z_score.describe()"
   ]
  },
  {
   "cell_type": "code",
   "execution_count": 12,
   "metadata": {},
   "outputs": [],
   "source": [
    "class MyStrategy(Strategy):\n",
    "    \n",
    "    def __init__(self, quantity=5):\n",
    "        self.quantity = quantity\n",
    "        self.n_buys = 0\n",
    "        self.n_sells = 0\n",
    "    \n",
    "    def on_data(self, prices, indicators, portfolio):\n",
    "\n",
    "        for stock in portfolio.stocks:\n",
    "            # Buy if current price is below lower bollinger band\n",
    "            if(prices['close'][stock][-1] < indicators['lower_bollinger'][stock][-1]):\n",
    "                portfolio.order(stock, quantity = self.quantity)\n",
    "                self.n_buys += 1\n",
    "            \n",
    "            # Sell if current price is above upper bollinger band\n",
    "            if(prices['close'][stock][-1] > indicators['upper_bollinger'][stock][-1]):\n",
    "                portfolio.order(stock, quantity = -self.quantity)\n",
    "                self.n_sells += 1\n",
    "\n",
    "    def on_finish(self):\n",
    "        # Added to results object - access using result.on_finish\n",
    "        return self.n_buys, self.n_sells"
   ]
  },
  {
   "cell_type": "code",
   "execution_count": 63,
   "metadata": {},
   "outputs": [],
   "source": [
    "class PairsTrading(Strategy):\n",
    "\n",
    "    def __init__(self, quantity=5):\n",
    "        self.quantity = quantity\n",
    "        self.vgt_position = 0\n",
    "        self.iyw_position = 0\n",
    "\n",
    "    def on_data(self, prices, indicators, portfolio): \n",
    "        # On average, VGT is 4.05 times more expensive than IYW\n",
    "\n",
    "        # If z_score is greater than 3, buy VGT and sell IYW\n",
    "        if indicators['z_score'][-1] > 3:\n",
    "            portfolio.order('VGT', quantity = self.quantity)\n",
    "            portfolio.order('IYW', quantity = -4*self.quantity)\n",
    "            self.vgt_position += self.quantity\n",
    "            self.iyw_position -= self.quantity\n",
    "        \n",
    "        # If z_score is greater than 1.5, buy VGT and sell IYW to half delta limit\n",
    "        if indicators['z_score'][-1] > 1.5 and abs(self.vgt_position < 500) and abs(self.iyw_position < 500):\n",
    "            portfolio.order('VGT', quantity = self.quantity)\n",
    "            portfolio.order('IYW', quantity = -4*self.quantity)\n",
    "            self.vgt_position += self.quantity\n",
    "            self.iyw_position -= self.quantity\n",
    "        \n",
    "        # If z_score is less than -3, buy IYW and sell VGT\n",
    "        elif indicators['z_score'][-1] < -1.5 and abs(self.vgt_position < 500) and abs(self.iyw_position < 500):\n",
    "            portfolio.order('VGT', quantity = -self.quantity)\n",
    "            portfolio.order('IYW', quantity = 4*self.quantity)\n",
    "            self.vgt_position -= self.quantity\n",
    "            self.iyw_position += self.quantity\n",
    "\n",
    "        # If z_score is less than -1.5, buy IYW and sell VGT to half delta limit\n",
    "        elif indicators['z_score'][-1] < -1.5 and abs(self.vgt_position < 500) and abs(self.iyw_position < 500):\n",
    "            portfolio.order('VGT', quantity = -self.quantity)\n",
    "            portfolio.order('IYW', quantity = 4*self.quantity)\n",
    "            self.vgt_position -= self.quantity\n",
    "            self.iyw_position += self.quantity\n",
    "        \n",
    "        # If z_score is between -0.5 and 0.5, exit positions\n",
    "        elif abs(indicators['z_score'][-1]) < 0.5:\n",
    "            portfolio.order('VGT', quantity = -self.vgt_position)\n",
    "            portfolio.order('IYW', quantity = -self.iyw_position)\n",
    "        return\n",
    "    \n",
    "    def on_finish(self):\n",
    "        return self.vgt_position, self.iyw_position\n",
    "        "
   ]
  },
  {
   "cell_type": "code",
   "execution_count": 64,
   "metadata": {},
   "outputs": [
    {
     "name": "stderr",
     "output_type": "stream",
     "text": [
      "> Fetching data: 100%|██████████| 2/2 [00:02<00:00,  1.16s/it]\n",
      "> Precompiling data: 100%|██████████| 431430/431430 [00:04<00:00, 89077.77it/s]\n"
     ]
    },
    {
     "data": {
      "text/plain": [
       "Backtester:\n",
       "- Strategy: PairsTrading\n",
       "\t- Params: {'quantity': 5}\n",
       "- Indicators: CustomIndicators\n",
       "\t- Params: {'bollinger_bands': {'BOLLINGER_WIDTH': 2, 'WINDOW_SIZE': 50}, 'pairs_ratio': {'WINDOW_SIZE': 30}}\n",
       "\t- SingleIndicators: ['z_score']\n",
       "\t- MultiIndicators: ['lower_bollinger', 'upper_bollinger']\n",
       "- Stocks: ['IYW', 'VGT']\n",
       "- Fee 0.0\n",
       "- delta_limit: {'IYW': 1000, 'VGT': 1000}\n",
       "- Days: 30"
      ]
     },
     "execution_count": 64,
     "metadata": {},
     "output_type": "execute_result"
    }
   ],
   "source": [
    "backtester = Backtester(PairsTrading, CustomIndicators, ['VGT', 'IYW'], data_folder='data', days=30, fee=0.000, delta_limits=1000)\n",
    "backtester"
   ]
  },
  {
   "cell_type": "code",
   "execution_count": 66,
   "metadata": {},
   "outputs": [
    {
     "name": "stderr",
     "output_type": "stream",
     "text": [
      "> Running backtest over 10 samples of 30 days: 100%|██████████| 10/10 [00:08<00:00,  1.11it/s]\n"
     ]
    },
    {
     "data": {
      "text/plain": [
       "\n",
       "{'strategy': {'quantity': 5}, 'indicator': {'bollinger_bands': {'BOLLINGER_WIDTH': 2, 'WINDOW_SIZE': 50}, 'pairs_ratio': {'WINDOW_SIZE': 30}}}\n",
       "\n",
       "Mean ROI:\t114386.53502349588\n",
       "STD ROI:\t149288.2805053217\n",
       "\n",
       "14/03/2022 -> 12/04/2022:\t143971.360\n",
       "14/01/2022 -> 11/02/2022:\t-28598.158\n",
       "05/07/2021 -> 03/08/2021:\t22874.709\n",
       "10/05/2022 -> 08/06/2022:\t262277.281\n",
       "19/10/2021 -> 17/11/2021:\t275591.675\n",
       "10/10/2022 -> 08/11/2022:\t-20628.735\n",
       "04/08/2021 -> 02/09/2021:\t394127.053\n",
       "12/10/2021 -> 10/11/2021:\t152581.824\n",
       "15/07/2022 -> 12/08/2022:\t26329.733\n",
       "20/10/2022 -> 18/11/2022:\t-84661.392\n",
       "\n",
       "AVERAGED RESULTS FOR 10 RUNS:\n",
       "|               |     IYW |      VGT |     Net |\n",
       "|---------------|---------|----------|---------|\n",
       "| n_trades      |   278.2 |    362.1 |   640.3 |\n",
       "| n_buys        |      80 |    258.6 |   338.6 |\n",
       "| n_sells       |   198.2 |    103.5 |   301.7 |\n",
       "| gross_pnl     |  125213 | -10826.1 |  114387 |\n",
       "| fees_paid     |       0 |        0 |       0 |\n",
       "| net_pnl       |  125213 | -10826.1 |  114387 |\n",
       "| pnl_per_trade | 547.823 | -42.3637 | 218.363 |"
      ]
     },
     "execution_count": 66,
     "metadata": {},
     "output_type": "execute_result"
    }
   ],
   "source": [
    "backtester.run(cv=10)"
   ]
  },
  {
   "cell_type": "code",
   "execution_count": 69,
   "metadata": {},
   "outputs": [
    {
     "name": "stdout",
     "output_type": "stream",
     "text": [
      "> Backtesting the across the following ranges:\n",
      "Agorithm Parameters {'quantity': [5, 10]}\n",
      "Indicator Parameters {'bollinger_bands': {'BOLLINGER_WIDTH': 2, 'WINDOW_SIZE': 50}, 'pairs_ratio': {'WINDOW_SIZE': [10, 30, 50, 100]}}\n"
     ]
    },
    {
     "name": "stderr",
     "output_type": "stream",
     "text": [
      "Running paramter sweep (cv=20): 100%|██████████| 8/8 [02:00<00:00, 15.05s/it]\n"
     ]
    },
    {
     "data": {
      "text/plain": [
       "Best parameter results:\n",
       "\n",
       "{'strategy': {'quantity': 5}, 'indicator': {'bollinger_bands': {'BOLLINGER_WIDTH': 2, 'WINDOW_SIZE': 50}, 'pairs_ratio': {'WINDOW_SIZE': 30}}}\n",
       "\n",
       "Mean ROI:\t156909.20364754897\n",
       "STD ROI:\t93090.73333407863\n",
       "\n",
       "24/05/2022 -> 22/06/2022:\t27583.434\n",
       "22/07/2022 -> 19/08/2022:\t-12033.717\n",
       "05/05/2022 -> 03/06/2022:\t171005.386\n",
       "19/07/2022 -> 17/08/2022:\t270222.067\n",
       "04/03/2022 -> 01/04/2022:\t138562.573\n",
       "28/01/2022 -> 25/02/2022:\t59917.444\n",
       "27/07/2021 -> 25/08/2021:\t21183.580\n",
       "29/09/2021 -> 28/10/2021:\t316272.082\n",
       "22/07/2021 -> 20/08/2021:\t201960.922\n",
       "15/06/2021 -> 14/07/2021:\t174107.061\n",
       "26/07/2022 -> 24/08/2022:\t238021.482\n",
       "09/02/2022 -> 10/03/2022:\t162223.991\n",
       "07/02/2022 -> 08/03/2022:\t109613.841\n",
       "03/08/2022 -> 01/09/2022:\t241547.968\n",
       "18/03/2022 -> 15/04/2022:\t220591.896\n",
       "17/09/2021 -> 15/10/2021:\t323980.553\n",
       "09/04/2021 -> 07/05/2021:\t108221.926\n",
       "20/04/2021 -> 19/05/2021:\t128155.390\n",
       "04/01/2022 -> 02/02/2022:\t68501.283\n",
       "07/09/2021 -> 06/10/2021:\t168544.909\n",
       "\n",
       "AVERAGED RESULTS FOR 20 RUNS:\n",
       "|               |     IYW |      VGT |     Net |\n",
       "|---------------|---------|----------|---------|\n",
       "| n_trades      |  293.35 |   402.35 |   695.7 |\n",
       "| n_buys        |  111.95 |    258.3 |  370.25 |\n",
       "| n_sells       |   181.4 |   144.05 |  325.45 |\n",
       "| gross_pnl     |  181476 | -24566.7 |  156909 |\n",
       "| fees_paid     |       0 |        0 |       0 |\n",
       "| net_pnl       |  181476 | -24566.7 |  156909 |\n",
       "| pnl_per_trade | 760.576 | -73.1648 | 293.253 |"
      ]
     },
     "execution_count": 69,
     "metadata": {},
     "output_type": "execute_result"
    }
   ],
   "source": [
    "# backtester.run_grid_search(\n",
    "#     strategy_params={'quantity': [1, 5, 10]},\n",
    "#     indicator_params={'bollinger_bands': {'BOLLINGER_WIDTH': [1, 2], 'WINDOW_SIZE': [10, 50, 100]}},\n",
    "#     cv=10)\n",
    "\n",
    "backtester.run_grid_search(\n",
    "    strategy_params={'quantity': [5, 10]},\n",
    "    indicator_params={'pairs_ratio': {'WINDOW_SIZE': [10, 30, 50, 100]}},\n",
    "    cv=20)"
   ]
  },
  {
   "cell_type": "code",
   "execution_count": null,
   "metadata": {},
   "outputs": [],
   "source": []
  }
 ],
 "metadata": {
  "kernelspec": {
   "display_name": "Python 3",
   "language": "python",
   "name": "python3"
  },
  "language_info": {
   "codemirror_mode": {
    "name": "ipython",
    "version": 3
   },
   "file_extension": ".py",
   "mimetype": "text/x-python",
   "name": "python",
   "nbconvert_exporter": "python",
   "pygments_lexer": "ipython3",
   "version": "3.10.6"
  },
  "orig_nbformat": 4
 },
 "nbformat": 4,
 "nbformat_minor": 2
}
