{
  "cells": [
    {
      "attachments": {},
      "cell_type": "markdown",
      "metadata": {
        "id": "qJZoXKIRCpnb"
      },
      "source": [
        "# QFin Trading Team Workshop 4\n",
        "## Creating an Algorithm"
      ]
    },
    {
      "cell_type": "code",
      "execution_count": 11,
      "metadata": {
        "id": "ogbqT8UcCpnf"
      },
      "outputs": [
        {
          "name": "stdout",
          "output_type": "stream",
          "text": [
            "Requirement already satisfied: qfinuwa in /Users/zacharycheng/opt/miniconda3/lib/python3.9/site-packages (1.1.8)\n",
            "Requirement already satisfied: requests in /Users/zacharycheng/opt/miniconda3/lib/python3.9/site-packages (from qfinuwa) (2.28.2)\n",
            "Requirement already satisfied: tqdm in /Users/zacharycheng/opt/miniconda3/lib/python3.9/site-packages (from qfinuwa) (4.65.0)\n",
            "Requirement already satisfied: bokeh in /Users/zacharycheng/opt/miniconda3/lib/python3.9/site-packages (from qfinuwa) (3.1.0)\n",
            "Requirement already satisfied: tabulate in /Users/zacharycheng/opt/miniconda3/lib/python3.9/site-packages (from qfinuwa) (0.9.0)\n",
            "Requirement already satisfied: numpy>=1.16 in /Users/zacharycheng/opt/miniconda3/lib/python3.9/site-packages (from bokeh->qfinuwa) (1.23.3)\n",
            "Requirement already satisfied: pillow>=7.1.0 in /Users/zacharycheng/opt/miniconda3/lib/python3.9/site-packages (from bokeh->qfinuwa) (9.4.0)\n",
            "Requirement already satisfied: Jinja2>=2.9 in /Users/zacharycheng/opt/miniconda3/lib/python3.9/site-packages (from bokeh->qfinuwa) (3.1.2)\n",
            "Requirement already satisfied: PyYAML>=3.10 in /Users/zacharycheng/opt/miniconda3/lib/python3.9/site-packages (from bokeh->qfinuwa) (6.0)\n",
            "Requirement already satisfied: packaging>=16.8 in /Users/zacharycheng/opt/miniconda3/lib/python3.9/site-packages (from bokeh->qfinuwa) (23.0)\n",
            "Requirement already satisfied: pandas>=1.2 in /Users/zacharycheng/opt/miniconda3/lib/python3.9/site-packages (from bokeh->qfinuwa) (1.5.3)\n",
            "Requirement already satisfied: xyzservices>=2021.09.1 in /Users/zacharycheng/opt/miniconda3/lib/python3.9/site-packages (from bokeh->qfinuwa) (2023.2.0)\n",
            "Requirement already satisfied: contourpy>=1 in /Users/zacharycheng/opt/miniconda3/lib/python3.9/site-packages (from bokeh->qfinuwa) (1.0.7)\n",
            "Requirement already satisfied: tornado>=5.1 in /Users/zacharycheng/opt/miniconda3/lib/python3.9/site-packages (from bokeh->qfinuwa) (6.1)\n",
            "Requirement already satisfied: MarkupSafe>=2.0 in /Users/zacharycheng/opt/miniconda3/lib/python3.9/site-packages (from Jinja2>=2.9->bokeh->qfinuwa) (2.1.2)\n",
            "Requirement already satisfied: pytz>=2020.1 in /Users/zacharycheng/opt/miniconda3/lib/python3.9/site-packages (from pandas>=1.2->bokeh->qfinuwa) (2022.4)\n",
            "Requirement already satisfied: python-dateutil>=2.8.1 in /Users/zacharycheng/opt/miniconda3/lib/python3.9/site-packages (from pandas>=1.2->bokeh->qfinuwa) (2.8.2)\n",
            "Requirement already satisfied: six>=1.5 in /Users/zacharycheng/opt/miniconda3/lib/python3.9/site-packages (from python-dateutil>=2.8.1->pandas>=1.2->bokeh->qfinuwa) (1.16.0)\n",
            "Requirement already satisfied: idna<4,>=2.5 in /Users/zacharycheng/opt/miniconda3/lib/python3.9/site-packages (from requests->qfinuwa) (3.3)\n",
            "Requirement already satisfied: charset-normalizer<4,>=2 in /Users/zacharycheng/opt/miniconda3/lib/python3.9/site-packages (from requests->qfinuwa) (2.0.4)\n",
            "Requirement already satisfied: certifi>=2017.4.17 in /Users/zacharycheng/opt/miniconda3/lib/python3.9/site-packages (from requests->qfinuwa) (2022.12.7)\n",
            "Requirement already satisfied: urllib3<1.27,>=1.21.1 in /Users/zacharycheng/opt/miniconda3/lib/python3.9/site-packages (from requests->qfinuwa) (1.26.9)\n"
          ]
        }
      ],
      "source": [
        "!pip install qfinuwa"
      ]
    },
    {
      "cell_type": "code",
      "execution_count": 12,
      "metadata": {
        "id": "zIjrceuvCpnh"
      },
      "outputs": [],
      "source": [
        "from qfinuwa import Indicators\n",
        "import pandas as pd"
      ]
    },
    {
      "attachments": {},
      "cell_type": "markdown",
      "metadata": {
        "id": "sdDXU678Cpnh"
      },
      "source": [
        "### But first - some bug fixes\n",
        "\n",
        "- indicator are 1 billion times faster to test\n",
        "- no need to pip install requests\n",
        "- documentation"
      ]
    },
    {
      "cell_type": "code",
      "execution_count": 13,
      "metadata": {
        "id": "JHNmdAMtCpni"
      },
      "outputs": [],
      "source": [
        "\n",
        "class CustomIndicators(Indicators):\n",
        "    \n",
        "    @Indicators.MultiIndicator\n",
        "    def bollinger_bands(self, stock, BOLLINGER_WIDTH = 2, WINDOW_SIZE = 100):\n",
        "\n",
        "        mid_price = (stock['high'] + stock['low']) / 2\n",
        "        rolling_mid = mid_price.rolling(WINDOW_SIZE).mean()\n",
        "        rolling_std = mid_price.rolling(WINDOW_SIZE).std()\n",
        "\n",
        "        return {\"upper_bollinger\": rolling_mid + BOLLINGER_WIDTH*rolling_std,\n",
        "                \"lower_bollinger\": rolling_mid - BOLLINGER_WIDTH*rolling_std}\n",
        "    \n",
        "    @Indicators.SingleIndicator\n",
        "    def etf(self, stock, apple = 0.2, goog = 0.3):\n",
        "\n",
        "        return {'etf':  apple*stock['AAPL']['close'] + \\\n",
        "                        goog*stock['GOOG']['close']}"
      ]
    },
    {
      "cell_type": "code",
      "execution_count": 14,
      "metadata": {
        "id": "e1BgBVn-Cpni"
      },
      "outputs": [
        {
          "data": {
            "text/plain": [
              "{'etf': 0         59.553082\n",
              " 1         59.533127\n",
              " 2         59.520625\n",
              " 3         59.505996\n",
              " 4         59.461190\n",
              "             ...    \n",
              " 431425    52.620010\n",
              " 431426    52.603524\n",
              " 431427    52.593765\n",
              " 431428    52.565568\n",
              " 431429    52.556582\n",
              " Name: close, Length: 431430, dtype: float64}"
            ]
          },
          "execution_count": 14,
          "metadata": {},
          "output_type": "execute_result"
        }
      ],
      "source": [
        "df1 = pd.read_csv('data/AAPL.csv')\n",
        "df2 = pd.read_csv('data/GOOG.csv')\n",
        "\n",
        "ind = CustomIndicators()\n",
        "\n",
        "# output = ind.bollinger_bands(df1)\n",
        "output = ind.etf({'AAPL': df1, 'GOOG': df2})\n",
        "output"
      ]
    },
    {
      "attachments": {},
      "cell_type": "markdown",
      "metadata": {
        "id": "oTIx2Xm1Cpnj"
      },
      "source": [
        "## Strategy Class\n",
        "\n",
        "Similar to the ``Indicators`` class, we can implement a strategy by extending ``qfinuwa.Strategy``.\n",
        "\n",
        "The null strategy would be implemented as follows:"
      ]
    },
    {
      "cell_type": "code",
      "execution_count": 15,
      "metadata": {
        "id": "B_woQWDrCpnk"
      },
      "outputs": [],
      "source": [
        "from qfinuwa import Strategy\n",
        "\n",
        "class MyStrategy(Strategy):\n",
        "    \n",
        "    def __init__(self):\n",
        "        return\n",
        "    \n",
        "    def on_data(self, data, indicators, portfolio):\n",
        "       return\n",
        "    \n",
        "    def on_finish(self):\n",
        "        return"
      ]
    },
    {
      "attachments": {},
      "cell_type": "markdown",
      "metadata": {
        "id": "1l1ZkCdnCpnk"
      },
      "source": [
        "The strategy offers custom implementation of three functions.\n",
        "\n",
        "- ``__init``: called on creation of the strategy\n",
        "- ``on_data``: called every data tick \n",
        "- ``on_finish``: return an object to be appended to the results"
      ]
    },
    {
      "attachments": {},
      "cell_type": "markdown",
      "metadata": {
        "id": "4rhF9zPzCpnk"
      },
      "source": [
        "### ``__init__``\n",
        "\n",
        "You can create variables here that can be accessed by ``on_data`` at runtime. \n",
        "\n",
        "Similar to each of your indicator functions, ``kwargs`` can be specified as hyperparamters (more on this later).\n",
        "\n",
        "### ``on_data``\n",
        "\n",
        "``on_data`` expects 3 additional arugments that will be populated at runtime.\n",
        "\n",
        "- ``data``: the historic data up to this point\n",
        "- ``indicators``: the historic value of your custom indicators\n",
        "- ``portfolio``: an object that manages your position\n",
        "\n",
        "### ``on_finish``\n",
        "\n",
        "Should return an object that will be added to the results. An example use case is if you want to measure some statistic over time, and the backtester doesn't offer it, so you record it yourself during runtime and return it via this function.\n",
        "\n",
        "### Example\n"
      ]
    },
    {
      "cell_type": "code",
      "execution_count": 16,
      "metadata": {
        "id": "04hZ5h0SCpnl"
      },
      "outputs": [],
      "source": [
        "class MyStrategy(Strategy):\n",
        "    \n",
        "    def __init__(self, quantity=5):\n",
        "        self.quantity = quantity\n",
        "    \n",
        "    def on_data(self, prices, indicators, portfolio):\n",
        "\n",
        "        # If current price is below lower Bollinger Band, enter a long position\n",
        "        if(prices['close']['AAPL'][-1] < indicators['lower_bollinger']['AAPL'][-1]):\n",
        "            portfolio.exit_position('long', 'AAPL', quantity=self.quantity)\n",
        "            portfolio.enter_position('short', 'AAPL', quantity=self.quantity)\n",
        "        \n",
        "        # If current price is above upper Bollinger Band, enter a short position\n",
        "        if(prices['close']['AAPL'][-1] > indicators['upper_bollinger']['AAPL'][-1]):\n",
        "            portfolio.exit_position('short', 'AAPL', quantity=self.quantity)\n",
        "            portfolio.enter_position('long', 'AAPL', quantity=self.quantity)\n",
        "\n",
        "    def on_finish(self):\n",
        "        return 'Hello there!'"
      ]
    },
    {
      "attachments": {},
      "cell_type": "markdown",
      "metadata": {
        "id": "ZgR1o6pICpnl"
      },
      "source": [
        "## Portfolio Class\n",
        "\n",
        "To execute a trade, use one of the following function on the ``portfolio`` argument.\n",
        "\n",
        "```py\n",
        "portfolio.enter_position('long', 'AAPL', quantity=100)\n",
        "portfolio.exit_position('short', 'GOOG', quantity=50)\n",
        "portfolio.enter_position('long', 'TSLA', quantity=20)\n",
        "portfolio.exit_position('short', 'AAPL', quantity=1)\n",
        "```"
      ]
    },
    {
      "attachments": {},
      "cell_type": "markdown",
      "metadata": {
        "id": "l5Z2jsPtCpnm"
      },
      "source": [
        "``enter_position`` and ``exit_postion`` will return 0 if successful, 1 if unsucessful and 2 if there was a code error.\n",
        "\n",
        "Some useful variables:\n",
        "\n",
        "```py\n",
        "portfolio.cash\n",
        "portfolio.holdings\n",
        "portfolio.stocks\n",
        "```"
      ]
    },
    {
      "attachments": {},
      "cell_type": "markdown",
      "metadata": {
        "id": "tnchS1a2Cpnm"
      },
      "source": [
        "## The Backtester"
      ]
    },
    {
      "cell_type": "code",
      "execution_count": 17,
      "metadata": {
        "id": "RTQAMGAgCpnm"
      },
      "outputs": [],
      "source": [
        "from qfinuwa import Backtester"
      ]
    },
    {
      "cell_type": "code",
      "execution_count": 18,
      "metadata": {
        "id": "8xZBRJbGCpnn"
      },
      "outputs": [
        {
          "name": "stderr",
          "output_type": "stream",
          "text": [
            "> Fetching data: 100%|██████████| 2/2 [00:00<00:00,  2.98it/s]\n",
            "> Precompiling data: 100%|██████████| 431430/431430 [00:07<00:00, 57260.84it/s] \n"
          ]
        }
      ],
      "source": [
        "backtester = Backtester(MyStrategy, CustomIndicators, ['AAPL', 'GOOG'],\n",
        "                        data_folder='./data', days='all', fee=0.01)"
      ]
    },
    {
      "attachments": {},
      "cell_type": "markdown",
      "metadata": {
        "id": "aRLjVAL5Cpnn"
      },
      "source": [
        "The backtester may take a few seconds to create itself, but once it is created you shouldn't do it again unless you want to change the data. It takes a long time to create itself because it is precompiling the data for iterating.\n",
        "\n",
        "### Changing Backtesting Parameters"
      ]
    },
    {
      "cell_type": "code",
      "execution_count": 19,
      "metadata": {
        "id": "u3HsliqWCpnn"
      },
      "outputs": [
        {
          "data": {
            "text/plain": [
              "Backtester:\n",
              "- Strategy: MyStrategy\n",
              "\t- Params: {'quantity': 5}\n",
              "- Indicators: CustomIndicators\n",
              "\t- Params: {'bollinger_bands': {'BOLLINGER_WIDTH': 2, 'WINDOW_SIZE': 100}, 'etf': {'apple': 0.2, 'goog': 0.3}}\n",
              "\t- SingleIndicators: ['etf']\n",
              "\t- MultiIndicators: ['lower_bollinger', 'upper_bollinger']\n",
              "- Stocks: ['AAPL', 'GOOG']\n",
              "- Fee 0.01\n",
              "- delta_limit: {'AAPL': 10000, 'GOOG': 10000}\n",
              "- Days: all"
            ]
          },
          "execution_count": 19,
          "metadata": {},
          "output_type": "execute_result"
        }
      ],
      "source": [
        "backtester"
      ]
    },
    {
      "cell_type": "code",
      "execution_count": 20,
      "metadata": {
        "id": "97vcVIVPCpno"
      },
      "outputs": [
        {
          "data": {
            "text/plain": [
              "Backtester:\n",
              "- Strategy: MyStrategy\n",
              "\t- Params: {'quantity': 5}\n",
              "- Indicators: CustomIndicators\n",
              "\t- Params: {'bollinger_bands': {'BOLLINGER_WIDTH': 2, 'WINDOW_SIZE': 100}, 'etf': {'apple': 0.2, 'goog': 0.3}}\n",
              "\t- SingleIndicators: ['etf']\n",
              "\t- MultiIndicators: ['lower_bollinger', 'upper_bollinger']\n",
              "- Stocks: ['AAPL', 'GOOG']\n",
              "- Fee 0.02\n",
              "- delta_limit: {'AAPL': 10000, 'GOOG': 10000}\n",
              "- Days: 90"
            ]
          },
          "execution_count": 20,
          "metadata": {},
          "output_type": "execute_result"
        }
      ],
      "source": [
        "backtester.fee = 0.02\n",
        "backtester.starting_balance = 100000\n",
        "backtester.days = 90\n",
        "\n",
        "backtester"
      ]
    },
    {
      "attachments": {},
      "cell_type": "markdown",
      "metadata": {
        "id": "Ifec9IptCpno"
      },
      "source": [
        "## Changing Strategy Parameters"
      ]
    },
    {
      "cell_type": "code",
      "execution_count": 21,
      "metadata": {
        "id": "GCqYyop2Cpno"
      },
      "outputs": [
        {
          "name": "stdout",
          "output_type": "stream",
          "text": [
            "current params {'quantity': 5}\n",
            "default params {'quantity': 5}\n"
          ]
        }
      ],
      "source": [
        "print('current params', backtester.strategy.params)\n",
        "print('default params', backtester.strategy.defaults)"
      ]
    },
    {
      "cell_type": "code",
      "execution_count": 22,
      "metadata": {
        "id": "-HKJRrxPCpnp"
      },
      "outputs": [],
      "source": [
        "backtester.strategy.update_params({'quantity': 10})"
      ]
    },
    {
      "cell_type": "code",
      "execution_count": 23,
      "metadata": {
        "id": "BtTd5Mg8Cpnp"
      },
      "outputs": [],
      "source": [
        "backtester.strategy = MyStrategy"
      ]
    },
    {
      "attachments": {},
      "cell_type": "markdown",
      "metadata": {
        "id": "DqbFhvhPCpnp"
      },
      "source": [
        "## Changing Indicator Parameters"
      ]
    },
    {
      "cell_type": "code",
      "execution_count": 24,
      "metadata": {
        "id": "cLLAwSzRCpnp"
      },
      "outputs": [
        {
          "name": "stdout",
          "output_type": "stream",
          "text": [
            "current params {'bollinger_bands': {'BOLLINGER_WIDTH': 2, 'WINDOW_SIZE': 100}, 'etf': {'apple': 0.2, 'goog': 0.3}}\n",
            "default params {'bollinger_bands': {'BOLLINGER_WIDTH': 2, 'WINDOW_SIZE': 100}, 'etf': {'apple': 0.2, 'goog': 0.3}}\n"
          ]
        }
      ],
      "source": [
        "print('current params', backtester.indicators.params)\n",
        "print('default params', backtester.indicators.defaults)"
      ]
    },
    {
      "cell_type": "code",
      "execution_count": 25,
      "metadata": {
        "id": "ssOcoCL6Cpnq"
      },
      "outputs": [],
      "source": [
        "backtester.indicators.update_params({'etf': {'apple': 0.0}, 'bollinger_bands': {'BOLLINGER_WIDTH': 1, 'WINDOW_SIZE': 50}})"
      ]
    },
    {
      "cell_type": "code",
      "execution_count": 26,
      "metadata": {
        "id": "cqqVIJgbCpnq"
      },
      "outputs": [],
      "source": [
        "backtester.indicators = CustomIndicators"
      ]
    },
    {
      "attachments": {},
      "cell_type": "markdown",
      "metadata": {
        "id": "FR907trSCpnq"
      },
      "source": [
        "## Running Backtests\n",
        "\n",
        "To run a backtest, use ``Backtester.run``.\n",
        "\n",
        "``run`` will pick ``cv`` random periods of ``backtester.days`` days and run your strategy on that window of data. If you want reproducibility, use ``seed`` to use the same random generation every time. "
      ]
    },
    {
      "cell_type": "code",
      "execution_count": 28,
      "metadata": {
        "id": "OvjMRLbbCpnq"
      },
      "outputs": [
        {
          "name": "stderr",
          "output_type": "stream",
          "text": [
            "> Running backtest over 5 samples of 90 days:   0%|          | 0/5 [00:00<?, ?it/s]\n"
          ]
        },
        {
          "ename": "AttributeError",
          "evalue": "'Portfolio' object has no attribute 'exit_position'",
          "output_type": "error",
          "traceback": [
            "\u001b[0;31m---------------------------------------------------------------------------\u001b[0m",
            "\u001b[0;31mAttributeError\u001b[0m                            Traceback (most recent call last)",
            "Cell \u001b[0;32mIn[28], line 1\u001b[0m\n\u001b[0;32m----> 1\u001b[0m output \u001b[39m=\u001b[39m backtester\u001b[39m.\u001b[39;49mrun(cv\u001b[39m=\u001b[39;49m\u001b[39m5\u001b[39;49m, seed\u001b[39m=\u001b[39;49m\u001b[39m2023\u001b[39;49m)\n",
            "File \u001b[0;32m~/opt/miniconda3/lib/python3.9/site-packages/qfinuwa/backtester.py:317\u001b[0m, in \u001b[0;36mBacktester.run\u001b[0;34m(self, strategy_params, indicator_params, cv, seed, start_dates, progressbar)\u001b[0m\n\u001b[1;32m    315\u001b[0m \u001b[39m#---------[RUN THE ALGORITHM]---------#\u001b[39;00m\n\u001b[1;32m    316\u001b[0m \u001b[39mfor\u001b[39;00m test_data \u001b[39min\u001b[39;00m (tqdm(test, desc\u001b[39m=\u001b[39mdesc, total \u001b[39m=\u001b[39m end\u001b[39m-\u001b[39mstart, mininterval\u001b[39m=\u001b[39m\u001b[39m0.5\u001b[39m) \u001b[39mif\u001b[39;00m progressbar \u001b[39mand\u001b[39;00m cv \u001b[39m==\u001b[39m \u001b[39m1\u001b[39m \u001b[39melse\u001b[39;00m test):\n\u001b[0;32m--> 317\u001b[0m     strategy\u001b[39m.\u001b[39;49mrun_on_data(test_data, portfolio)\n\u001b[1;32m    318\u001b[0m value, trades \u001b[39m=\u001b[39m portfolio\u001b[39m.\u001b[39mwrap_up()\n\u001b[1;32m    319\u001b[0m on_finish \u001b[39m=\u001b[39m strategy\u001b[39m.\u001b[39mon_finish()\n",
            "File \u001b[0;32m~/opt/miniconda3/lib/python3.9/site-packages/qfinuwa/strategy.py:50\u001b[0m, in \u001b[0;36mStrategy.run_on_data\u001b[0;34m(self, args, portfolio)\u001b[0m\n\u001b[1;32m     48\u001b[0m \u001b[39mdef\u001b[39;00m \u001b[39mrun_on_data\u001b[39m(\u001b[39mself\u001b[39m, args: \u001b[39mtuple\u001b[39m, portfolio: Portfolio) \u001b[39m-\u001b[39m\u001b[39m>\u001b[39m \u001b[39mNone\u001b[39;00m:\n\u001b[1;32m     49\u001b[0m     portfolio\u001b[39m.\u001b[39mcurr_prices, \u001b[39m*\u001b[39mdata \u001b[39m=\u001b[39m args\n\u001b[0;32m---> 50\u001b[0m     \u001b[39mself\u001b[39;49m\u001b[39m.\u001b[39;49mon_data(\u001b[39m*\u001b[39;49mdata, portfolio)\n",
            "Cell \u001b[0;32mIn[16], line 15\u001b[0m, in \u001b[0;36mMyStrategy.on_data\u001b[0;34m(self, prices, indicators, portfolio)\u001b[0m\n\u001b[1;32m     13\u001b[0m \u001b[39m# If current price is above upper Bollinger Band, enter a short position\u001b[39;00m\n\u001b[1;32m     14\u001b[0m \u001b[39mif\u001b[39;00m(prices[\u001b[39m'\u001b[39m\u001b[39mclose\u001b[39m\u001b[39m'\u001b[39m][\u001b[39m'\u001b[39m\u001b[39mAAPL\u001b[39m\u001b[39m'\u001b[39m][\u001b[39m-\u001b[39m\u001b[39m1\u001b[39m] \u001b[39m>\u001b[39m indicators[\u001b[39m'\u001b[39m\u001b[39mupper_bollinger\u001b[39m\u001b[39m'\u001b[39m][\u001b[39m'\u001b[39m\u001b[39mAAPL\u001b[39m\u001b[39m'\u001b[39m][\u001b[39m-\u001b[39m\u001b[39m1\u001b[39m]):\n\u001b[0;32m---> 15\u001b[0m     portfolio\u001b[39m.\u001b[39;49mexit_position(\u001b[39m'\u001b[39m\u001b[39mshort\u001b[39m\u001b[39m'\u001b[39m, \u001b[39m'\u001b[39m\u001b[39mAAPL\u001b[39m\u001b[39m'\u001b[39m, quantity\u001b[39m=\u001b[39m\u001b[39mself\u001b[39m\u001b[39m.\u001b[39mquantity)\n\u001b[1;32m     16\u001b[0m     portfolio\u001b[39m.\u001b[39menter_position(\u001b[39m'\u001b[39m\u001b[39mlong\u001b[39m\u001b[39m'\u001b[39m, \u001b[39m'\u001b[39m\u001b[39mAAPL\u001b[39m\u001b[39m'\u001b[39m, quantity\u001b[39m=\u001b[39m\u001b[39mself\u001b[39m\u001b[39m.\u001b[39mquantity)\n",
            "\u001b[0;31mAttributeError\u001b[0m: 'Portfolio' object has no attribute 'exit_position'"
          ]
        }
      ],
      "source": [
        "output = backtester.run(cv=5, seed=2023)"
      ]
    },
    {
      "cell_type": "code",
      "execution_count": null,
      "metadata": {
        "id": "sj70QQGGCpnr"
      },
      "outputs": [
        {
          "data": {
            "text/plain": [
              "\n",
              "{'strategy': {'quantity': 10}, 'indicator': {'bollinger_bands': {'BOLLINGER_WIDTH': 2, 'WINDOW_SIZE': 100}, 'etf': {'apple': 0.2, 'goog': 0.3}}}\n",
              "\n",
              "Mean ROI:\t-0.4134143129212961\n",
              "STD ROI:\t0.38211042007780277\n",
              "\n",
              "01/10/2022 -> 05/13/2022:\t-0.857\n",
              "08/25/2022 -> 12/28/2022:\t-0.875\n",
              "02/23/2022 -> 06/28/2022:\t-0.194\n",
              "01/13/2022 -> 05/18/2022:\t-0.204\n",
              "11/24/2021 -> 03/29/2022:\t0.064\n",
              "\n",
              "AVERAGED RESULTS FOR 5 RUNS:\n",
              "|                 |     AAPL |   GOOG |      Net |\n",
              "|-----------------|----------|--------|----------|\n",
              "| n_trades        |    220.6 |      0 |    220.6 |\n",
              "| mean_per_trades | -289.063 |      0 | -144.531 |\n",
              "| std_trades      |  9.01043 |      0 |  9.01043 |\n",
              "| n_longs         |    110.6 |      0 |    110.6 |\n",
              "| mean_per_longs  | -578.558 |      0 | -289.279 |\n",
              "| std_longs       |    5.119 |      0 |    5.119 |\n",
              "| n_shorts        |      110 |      0 |      110 |\n",
              "| mean_per_shorts |  0.43198 |      0 |  0.21599 |\n",
              "| std_shorts      |  6.68324 |      0 |  6.68324 |"
            ]
          },
          "execution_count": 18,
          "metadata": {},
          "output_type": "execute_result"
        }
      ],
      "source": [
        "output\n",
        "# output[3]\n",
        "\n",
        "# output.roi\n",
        "# output[3].roi\n",
        "\n",
        "# [run.roi for run in output]"
      ]
    },
    {
      "attachments": {},
      "cell_type": "markdown",
      "metadata": {
        "id": "uqpSplrjCpnr"
      },
      "source": [
        "You can either use ``Backtester.strategy.update_params`` to update parameters, or just give them to ``run``."
      ]
    },
    {
      "cell_type": "code",
      "execution_count": null,
      "metadata": {
        "id": "AY5R8VqyCpnr"
      },
      "outputs": [
        {
          "name": "stderr",
          "output_type": "stream",
          "text": [
            "> Running backtest over 5 samples of 90 days: 100%|██████████| 5/5 [00:03<00:00,  1.38it/s]\n"
          ]
        }
      ],
      "source": [
        "S = {\n",
        "    'quantity': 90\n",
        "}\n",
        "\n",
        "I = {\n",
        "    'bollinger_bands': {\n",
        "        'BOLLINGER_WIDTH': 1,\n",
        "        'WINDOW_SIZE': 50\n",
        "    },\n",
        "    'etf': {\n",
        "        'apple': 0.0\n",
        "    }\n",
        "}\n",
        "\n",
        "\n",
        "output = backtester.run(strategy_params = S, indicator_params = I, cv=5)"
      ]
    },
    {
      "attachments": {},
      "cell_type": "markdown",
      "metadata": {
        "id": "kcL96W3_Cpns"
      },
      "source": [
        "## Hyper-Parameter Sweep\n",
        "\n",
        "To run a basic grid-search over all your hyperparameters, use ``Backtester.run_grid_search``."
      ]
    },
    {
      "cell_type": "code",
      "execution_count": null,
      "metadata": {
        "id": "adLIK9BHCpns"
      },
      "outputs": [
        {
          "name": "stdout",
          "output_type": "stream",
          "text": [
            "> Backtesting the across the following ranges:\n",
            "Agorithm Parameters {'quantity': [1, 10]}\n",
            "Indicator Parameters {'bollinger_bands': {'BOLLINGER_WIDTH': [1, 2], 'WINDOW_SIZE': 100}, 'etf': {'apple': [0.0, 0.5], 'goog': 0.3}}\n"
          ]
        },
        {
          "name": "stderr",
          "output_type": "stream",
          "text": [
            "Running paramter sweep (cv=2): 100%|██████████| 8/8 [00:20<00:00,  2.51s/it]\n"
          ]
        }
      ],
      "source": [
        "output = backtester.run_grid_search(\n",
        "    strategy_params={'quantity': [1, 10]},\n",
        "    indicator_params={'bollinger_bands': {\n",
        "                            'BOLLINGER_WIDTH': [1, 2], \n",
        "                            }, \n",
        "                        'etf': {'apple': [0.0, 0.5]}},\n",
        "    cv=2)"
      ]
    },
    {
      "cell_type": "code",
      "execution_count": null,
      "metadata": {
        "id": "liEuctEACpnt"
      },
      "outputs": [
        {
          "data": {
            "text/plain": [
              "\n",
              "{'strategy': {'quantity': 1}, 'indicator': {'bollinger_bands': {'BOLLINGER_WIDTH': 2, 'WINDOW_SIZE': 100}, 'etf': {'apple': 0.0, 'goog': 0.3}}}\n",
              "\n",
              "Mean ROI:\t-0.7168047709784728\n",
              "STD ROI:\t0.22559358002675983\n",
              "\n",
              "04/29/2022 -> 09/01/2022:\t-0.942\n",
              "12/07/2021 -> 04/11/2022:\t-0.491\n",
              "\n",
              "AVERAGED RESULTS FOR 2 RUNS:\n",
              "|                 |      AAPL |   GOOG |       Net |\n",
              "|-----------------|-----------|--------|-----------|\n",
              "| n_trades        |      3587 |      0 |      3587 |\n",
              "| mean_per_trades |  -2.59445 |      0 |  -1.29723 |\n",
              "| std_trades      |   3.35652 |      0 |   3.35652 |\n",
              "| n_longs         |    1807.5 |      0 |    1807.5 |\n",
              "| mean_per_longs  |  -4.32092 |      0 |  -2.16046 |\n",
              "| std_longs       |    3.4156 |      0 |    3.4156 |\n",
              "| n_shorts        |    1779.5 |      0 |    1779.5 |\n",
              "| mean_per_shorts | -0.867991 |      0 | -0.433996 |\n",
              "| std_shorts      |   1.89827 |      0 |   1.89827 |"
            ]
          },
          "execution_count": 21,
          "metadata": {},
          "output_type": "execute_result"
        }
      ],
      "source": [
        "output\n",
        "output[0]"
      ]
    },
    {
      "attachments": {},
      "cell_type": "markdown",
      "metadata": {
        "id": "jB5Pm95mCpnu"
      },
      "source": [
        "## Plotting"
      ]
    },
    {
      "cell_type": "code",
      "execution_count": null,
      "metadata": {
        "id": "JjdYgI_hCpnu"
      },
      "outputs": [],
      "source": [
        "from qfinuwa import Plotting"
      ]
    },
    {
      "cell_type": "code",
      "execution_count": null,
      "metadata": {
        "id": "ay_VuwpqCpnu"
      },
      "outputs": [],
      "source": [
        "multirun = output[0]\n",
        "singlerun = multirun[0]\n",
        "\n",
        "Plotting.plot_result(singlerun, stocks=['AAPL'], transactions_on='AAPL')"
      ]
    }
  ],
  "metadata": {
    "colab": {
      "provenance": []
    },
    "kernelspec": {
      "display_name": "qfin",
      "language": "python",
      "name": "python3"
    },
    "language_info": {
      "codemirror_mode": {
        "name": "ipython",
        "version": 3
      },
      "file_extension": ".py",
      "mimetype": "text/x-python",
      "name": "python",
      "nbconvert_exporter": "python",
      "pygments_lexer": "ipython3",
      "version": "3.9.12"
    },
    "orig_nbformat": 4
  },
  "nbformat": 4,
  "nbformat_minor": 0
}
