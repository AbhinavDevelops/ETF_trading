{
 "cells": [
  {
   "attachments": {},
   "cell_type": "markdown",
   "metadata": {},
   "source": [
    "# QFin Trading Platform Tutorial"
   ]
  },
  {
   "cell_type": "code",
   "execution_count": 1,
   "metadata": {},
   "outputs": [],
   "source": [
    "from qfinuwa import Indicators\n",
    "import pandas as pd"
   ]
  },
  {
   "cell_type": "code",
   "execution_count": 2,
   "metadata": {},
   "outputs": [],
   "source": [
    "\n",
    "class CustomIndicators(Indicators):\n",
    "        \n",
    "    @Indicators.SingleIndicator\n",
    "    def theo_etf(self, stocks):\n",
    "        weights = {\n",
    "            'AAPL': 74235724,\n",
    "            'MSFT': 33656109,\n",
    "            'NVDA': 11813404,\n",
    "            'V': 7278487,\n",
    "            'MA': 4106032,\n",
    "            'AVGO': 1923552,\n",
    "            'CRM': 4730962,\n",
    "            'TXN': 4355505,\n",
    "        }\n",
    "\n",
    "        n_shares = sum(weights.values())\n",
    "        tot = n_shares = 19697965 + 3013530\n",
    "        factor = tot/n_shares\n",
    "\n",
    "        midprices = [(w/n_shares)*stocks[s]['close'] for s,w in weights.items()]\n",
    "\n",
    "        summation = sum(midprices)\n",
    "\n",
    "        return factor*summation\n",
    "\n"
   ]
  },
  {
   "cell_type": "code",
   "execution_count": 23,
   "metadata": {},
   "outputs": [
    {
     "data": {
      "text/plain": [
       "{'AAPL':                        time        open        high         low       close  \\\n",
       " 0       2021-04-09 09:31:00  128.095547  128.480426  128.095547  128.312659   \n",
       " 1       2021-04-09 09:32:00  128.302790  128.391608  128.031401  128.154760   \n",
       " 2       2021-04-09 09:33:00  128.149825  128.233709  127.908042  127.977123   \n",
       " 3       2021-04-09 09:34:00  127.977222  128.095547  127.878436  128.006729   \n",
       " 4       2021-04-09 09:35:00  128.001795  128.085679  127.868568  127.908042   \n",
       " ...                     ...         ...         ...         ...         ...   \n",
       " 431425  2022-12-29 15:56:00  129.702453  129.707445  129.552681  129.637552   \n",
       " 431426  2022-12-29 15:57:00  129.632560  129.652529  129.537704  129.592620   \n",
       " 431427  2022-12-29 15:58:00  129.582636  129.592520  129.522727  129.524324   \n",
       " 431428  2022-12-29 15:59:00  129.530415  129.530415  129.442848  129.447841   \n",
       " 431429  2022-12-29 16:00:00  129.447841  129.512742  129.362970  129.402909   \n",
       " \n",
       "            volume  \n",
       " 0       1728495.0  \n",
       " 1        595045.0  \n",
       " 2        567205.0  \n",
       " 3        495596.0  \n",
       " 4        399394.0  \n",
       " ...           ...  \n",
       " 431425   368260.0  \n",
       " 431426   282248.0  \n",
       " 431427   254365.0  \n",
       " 431428   504929.0  \n",
       " 431429   908866.0  \n",
       " \n",
       " [431430 rows x 6 columns],\n",
       " 'MSFT':                        time        open        high         low       close  \\\n",
       " 0       2021-04-09 09:31:00  248.355675  248.517729  247.992280  248.178888   \n",
       " 1       2021-04-09 09:32:00  248.129781  248.434247  248.035004  248.128897   \n",
       " 2       2021-04-09 09:33:00  248.080674  248.159245  247.933351  247.989825   \n",
       " 3       2021-04-09 09:34:00  247.972637  248.552104  247.962816  248.517729   \n",
       " 4       2021-04-09 09:35:00  248.532461  248.630578  248.277103  248.326210   \n",
       " ...                     ...         ...         ...         ...         ...   \n",
       " 431425  2022-12-29 15:56:00  240.851879  240.851879  240.472836  240.723203   \n",
       " 431426  2022-12-29 15:57:00  240.740161  240.772080  240.582559  240.672332   \n",
       " 431427  2022-12-29 15:58:00  240.672332  240.712231  240.562609  240.577072   \n",
       " 431428  2022-12-29 15:59:00  240.562609  240.562609  240.433036  240.442911   \n",
       " 431429  2022-12-29 16:00:00  240.482810  240.562609  240.213490  240.375581   \n",
       " \n",
       "           volume  \n",
       " 0       556879.0  \n",
       " 1        96738.0  \n",
       " 2        60781.0  \n",
       " 3        95845.0  \n",
       " 4        91907.0  \n",
       " ...          ...  \n",
       " 431425  170094.0  \n",
       " 431426  123311.0  \n",
       " 431427  126075.0  \n",
       " 431428  186251.0  \n",
       " 431429  367479.0  \n",
       " \n",
       " [431430 rows x 6 columns],\n",
       " 'NVDA':                        time        open        high         low       close  \\\n",
       " 0       2021-04-09 09:31:00  141.910536  142.269955  141.656347  141.710859   \n",
       " 1       2021-04-09 09:32:00  141.713355  142.045817  141.558605  141.755786   \n",
       " 2       2021-04-09 09:33:00  141.650956  141.913856  141.645964  141.863113   \n",
       " 3       2021-04-09 09:34:00  141.875593  142.277443  141.793226  142.277443   \n",
       " 4       2021-04-09 09:35:00  142.260221  142.534502  142.080287  142.407233   \n",
       " ...                     ...         ...         ...         ...         ...   \n",
       " 431425  2022-12-29 15:56:00  146.484839  146.484839  146.174893  146.349863   \n",
       " 431426  2022-12-29 15:57:00  146.354862  146.384857  146.234882  146.284874   \n",
       " 431427  2022-12-29 15:58:00  146.274875  146.334765  146.174893  146.194889   \n",
       " 431428  2022-12-29 15:59:00  146.204888  146.224884  146.014920  146.024918   \n",
       " 431429  2022-12-29 16:00:00  146.024918  146.054913  145.794958  146.004922   \n",
       " \n",
       "           volume  \n",
       " 0       386800.0  \n",
       " 1       104744.0  \n",
       " 2        67408.0  \n",
       " 3       101688.0  \n",
       " 4       127512.0  \n",
       " ...          ...  \n",
       " 431425  185327.0  \n",
       " 431426  168017.0  \n",
       " 431427  152683.0  \n",
       " 431428  184453.0  \n",
       " 431429  473034.0  \n",
       " \n",
       " [431430 rows x 6 columns],\n",
       " 'V':                        time        open        high         low       close  \\\n",
       " 0       2021-04-09 09:31:00  217.885677  217.944832  217.234978  217.506102   \n",
       " 1       2021-04-09 09:32:00  217.427230  217.427230  216.678433  216.801178   \n",
       " 2       2021-04-09 09:33:00  216.860333  216.978642  216.416674  216.732165   \n",
       " 3       2021-04-09 09:34:00  216.825826  216.919487  216.544842  216.682869   \n",
       " 4       2021-04-09 09:35:00  216.613856  217.027937  216.584278  216.939205   \n",
       " ...                     ...         ...         ...         ...         ...   \n",
       " 431425  2022-12-29 15:56:00  207.742396  207.742396  207.582709  207.702474   \n",
       " 431426  2022-12-29 15:57:00  207.702474  207.752376  207.672533  207.752376   \n",
       " 431427  2022-12-29 15:58:00  207.757366  207.782317  207.692493  207.695987   \n",
       " 431428  2022-12-29 15:59:00  207.702474  207.732415  207.602670  207.692493   \n",
       " 431429  2022-12-29 16:00:00  207.692493  207.732415  207.492885  207.642591   \n",
       " \n",
       "           volume  \n",
       " 0       483944.0  \n",
       " 1        23138.0  \n",
       " 2        29111.0  \n",
       " 3        25090.0  \n",
       " 4        49416.0  \n",
       " ...          ...  \n",
       " 431425   27789.0  \n",
       " 431426   22878.0  \n",
       " 431427   24808.0  \n",
       " 431428   32509.0  \n",
       " 431429   93994.0  \n",
       " \n",
       " [431430 rows x 6 columns],\n",
       " 'MA':                        time        open        high         low       close  \\\n",
       " 0       2021-04-09 09:31:00  372.393498  372.542028  370.838888  372.002370   \n",
       " 1       2021-04-09 09:32:00  372.027125  372.027125  370.769574  371.433007   \n",
       " 2       2021-04-09 09:33:00  371.487467  371.819184  371.363693  371.551533   \n",
       " 3       2021-04-09 09:34:00  371.665703  372.487567  371.665703  372.413302   \n",
       " 4       2021-04-09 09:35:00  372.334086  372.591538  372.170704  372.170704   \n",
       " ...                     ...         ...         ...         ...         ...   \n",
       " 431425  2022-12-29 15:56:00  348.110323  348.120308  347.810788  347.850726   \n",
       " 431426  2022-12-29 15:57:00  347.870695  347.910633  347.810788  347.850726   \n",
       " 431427  2022-12-29 15:58:00  347.875687  347.900648  347.671005  347.680989   \n",
       " 431428  2022-12-29 15:59:00  347.661020  347.755873  347.531221  347.725919   \n",
       " 431429  2022-12-29 16:00:00  347.720927  347.810788  347.501268  347.690974   \n",
       " \n",
       "           volume  \n",
       " 0       115048.0  \n",
       " 1        16491.0  \n",
       " 2        14228.0  \n",
       " 3        11869.0  \n",
       " 4        14733.0  \n",
       " ...          ...  \n",
       " 431425   21204.0  \n",
       " 431426   14066.0  \n",
       " 431427   16194.0  \n",
       " 431428   15167.0  \n",
       " 431429   29008.0  \n",
       " \n",
       " [431430 rows x 6 columns],\n",
       " 'AVGO':                        time        open        high         low       close  \\\n",
       " 0       2021-04-09 09:31:00  451.933989  452.593059  450.681755  451.482055   \n",
       " 1       2021-04-09 09:32:00  451.312580  452.470661  451.152520  451.933989   \n",
       " 2       2021-04-09 09:33:00  451.933989  451.933989  451.176058  451.802175   \n",
       " 3       2021-04-09 09:34:00  451.886912  452.470661  451.651530  452.470661   \n",
       " 4       2021-04-09 09:35:00  452.696627  452.932010  452.429798  452.809611   \n",
       " ...                     ...         ...         ...         ...         ...   \n",
       " 431425  2022-12-29 15:56:00  555.462238  555.462238  554.841721  555.050214   \n",
       " 431426  2022-12-29 15:57:00  555.159425  555.169354  554.345307  554.345307   \n",
       " 431427  2022-12-29 15:58:00  554.335378  554.643155  554.136813  554.243244   \n",
       " 431428  2022-12-29 15:59:00  554.295665  554.295665  553.997817  554.082207   \n",
       " 431429  2022-12-29 16:00:00  554.097100  554.126885  553.173770  553.789323   \n",
       " \n",
       "          volume  \n",
       " 0       41378.0  \n",
       " 1        9094.0  \n",
       " 2        4628.0  \n",
       " 3        6956.0  \n",
       " 4        3084.0  \n",
       " ...         ...  \n",
       " 431425  10339.0  \n",
       " 431426  17832.0  \n",
       " 431427  16765.0  \n",
       " 431428  21800.0  \n",
       " 431429  65017.0  \n",
       " \n",
       " [431430 rows x 6 columns],\n",
       " 'CRM':                        time      open     high      low    close    volume\n",
       " 0       2021-04-09 09:31:00  224.3300  224.930  223.630  224.030  262051.0\n",
       " 1       2021-04-09 09:32:00  223.9200  224.230  223.790  223.960   24802.0\n",
       " 2       2021-04-09 09:33:00  223.9201  224.260  223.860  224.220   37991.0\n",
       " 3       2021-04-09 09:34:00  224.3200  224.420  224.050  224.210   38904.0\n",
       " 4       2021-04-09 09:35:00  224.2250  224.330  223.920  224.060   28955.0\n",
       " ...                     ...       ...      ...      ...      ...       ...\n",
       " 431425  2022-12-29 15:56:00  132.5600  132.620  132.460  132.620   37204.0\n",
       " 431426  2022-12-29 15:57:00  132.6250  132.635  132.515  132.520   46557.0\n",
       " 431427  2022-12-29 15:58:00  132.5200  132.620  132.510  132.555   36582.0\n",
       " 431428  2022-12-29 15:59:00  132.5550  132.570  132.500  132.510   51954.0\n",
       " 431429  2022-12-29 16:00:00  132.5200  132.570  132.450  132.550   86643.0\n",
       " \n",
       " [431430 rows x 6 columns],\n",
       " 'TXN':                        time        open        high         low       close  \\\n",
       " 0       2021-04-09 09:31:00  183.569108  183.929960  183.027831  183.497888   \n",
       " 1       2021-04-09 09:32:00  183.483644  183.484403  183.056319  183.274729   \n",
       " 2       2021-04-09 09:33:00  183.122792  183.293722  183.094303  183.293722   \n",
       " 3       2021-04-09 09:34:00  183.379186  183.825503  183.227249  183.806511   \n",
       " 4       2021-04-09 09:35:00  183.759030  183.825503  183.540620  183.702054   \n",
       " ...                     ...         ...         ...         ...         ...   \n",
       " 431425  2022-12-29 15:56:00  164.352864  164.352864  164.134429  164.323077   \n",
       " 431426  2022-12-29 15:57:00  164.362793  164.362793  164.099677  164.114571   \n",
       " 431427  2022-12-29 15:58:00  164.154286  164.194002  163.925922  163.985495   \n",
       " 431428  2022-12-29 15:59:00  163.975566  163.985495  163.856420  163.935851   \n",
       " 431429  2022-12-29 16:00:00  163.955709  163.965637  163.578411  163.856420   \n",
       " \n",
       "           volume  \n",
       " 0        76302.0  \n",
       " 1         7776.0  \n",
       " 2         1650.0  \n",
       " 3        23248.0  \n",
       " 4         5096.0  \n",
       " ...          ...  \n",
       " 431425   43762.0  \n",
       " 431426   40419.0  \n",
       " 431427   60455.0  \n",
       " 431428   45599.0  \n",
       " 431429  136726.0  \n",
       " \n",
       " [431430 rows x 6 columns]}"
      ]
     },
     "execution_count": 23,
     "metadata": {},
     "output_type": "execute_result"
    }
   ],
   "source": [
    "ci = CustomIndicators()\n",
    "\n",
    "data = [\n",
    "    'AAPL',\n",
    "    'MSFT',\n",
    "    'NVDA',\n",
    "    'V',\n",
    "    'MA',\n",
    "    'AVGO',\n",
    "    'CRM',\n",
    "    'TXN',\n",
    "]\n",
    "\n",
    "stocks = {d: pd.read_csv('data/' + d + '.csv') for d in data}\n",
    "stocks\n",
    "\n",
    "# test etf indicator\n"
   ]
  },
  {
   "cell_type": "code",
   "execution_count": 24,
   "metadata": {},
   "outputs": [
    {
     "data": {
      "text/plain": [
       "{'AAPL':                        time        open        high         low       close  \\\n",
       " 0       2021-04-09 09:31:00  128.095547  128.480426  128.095547  128.312659   \n",
       " 1       2021-04-09 09:32:00  128.302790  128.391608  128.031401  128.154760   \n",
       " 2       2021-04-09 09:33:00  128.149825  128.233709  127.908042  127.977123   \n",
       " 3       2021-04-09 09:34:00  127.977222  128.095547  127.878436  128.006729   \n",
       " 4       2021-04-09 09:35:00  128.001795  128.085679  127.868568  127.908042   \n",
       " ...                     ...         ...         ...         ...         ...   \n",
       " 431425  2022-12-29 15:56:00  129.702453  129.707445  129.552681  129.637552   \n",
       " 431426  2022-12-29 15:57:00  129.632560  129.652529  129.537704  129.592620   \n",
       " 431427  2022-12-29 15:58:00  129.582636  129.592520  129.522727  129.524324   \n",
       " 431428  2022-12-29 15:59:00  129.530415  129.530415  129.442848  129.447841   \n",
       " 431429  2022-12-29 16:00:00  129.447841  129.512742  129.362970  129.402909   \n",
       " \n",
       "            volume  \n",
       " 0       1728495.0  \n",
       " 1        595045.0  \n",
       " 2        567205.0  \n",
       " 3        495596.0  \n",
       " 4        399394.0  \n",
       " ...           ...  \n",
       " 431425   368260.0  \n",
       " 431426   282248.0  \n",
       " 431427   254365.0  \n",
       " 431428   504929.0  \n",
       " 431429   908866.0  \n",
       " \n",
       " [431430 rows x 6 columns],\n",
       " 'MSFT':                        time        open        high         low       close  \\\n",
       " 0       2021-04-09 09:31:00  248.355675  248.517729  247.992280  248.178888   \n",
       " 1       2021-04-09 09:32:00  248.129781  248.434247  248.035004  248.128897   \n",
       " 2       2021-04-09 09:33:00  248.080674  248.159245  247.933351  247.989825   \n",
       " 3       2021-04-09 09:34:00  247.972637  248.552104  247.962816  248.517729   \n",
       " 4       2021-04-09 09:35:00  248.532461  248.630578  248.277103  248.326210   \n",
       " ...                     ...         ...         ...         ...         ...   \n",
       " 431425  2022-12-29 15:56:00  240.851879  240.851879  240.472836  240.723203   \n",
       " 431426  2022-12-29 15:57:00  240.740161  240.772080  240.582559  240.672332   \n",
       " 431427  2022-12-29 15:58:00  240.672332  240.712231  240.562609  240.577072   \n",
       " 431428  2022-12-29 15:59:00  240.562609  240.562609  240.433036  240.442911   \n",
       " 431429  2022-12-29 16:00:00  240.482810  240.562609  240.213490  240.375581   \n",
       " \n",
       "           volume  \n",
       " 0       556879.0  \n",
       " 1        96738.0  \n",
       " 2        60781.0  \n",
       " 3        95845.0  \n",
       " 4        91907.0  \n",
       " ...          ...  \n",
       " 431425  170094.0  \n",
       " 431426  123311.0  \n",
       " 431427  126075.0  \n",
       " 431428  186251.0  \n",
       " 431429  367479.0  \n",
       " \n",
       " [431430 rows x 6 columns],\n",
       " 'NVDA':                        time        open        high         low       close  \\\n",
       " 0       2021-04-09 09:31:00  141.910536  142.269955  141.656347  141.710859   \n",
       " 1       2021-04-09 09:32:00  141.713355  142.045817  141.558605  141.755786   \n",
       " 2       2021-04-09 09:33:00  141.650956  141.913856  141.645964  141.863113   \n",
       " 3       2021-04-09 09:34:00  141.875593  142.277443  141.793226  142.277443   \n",
       " 4       2021-04-09 09:35:00  142.260221  142.534502  142.080287  142.407233   \n",
       " ...                     ...         ...         ...         ...         ...   \n",
       " 431425  2022-12-29 15:56:00  146.484839  146.484839  146.174893  146.349863   \n",
       " 431426  2022-12-29 15:57:00  146.354862  146.384857  146.234882  146.284874   \n",
       " 431427  2022-12-29 15:58:00  146.274875  146.334765  146.174893  146.194889   \n",
       " 431428  2022-12-29 15:59:00  146.204888  146.224884  146.014920  146.024918   \n",
       " 431429  2022-12-29 16:00:00  146.024918  146.054913  145.794958  146.004922   \n",
       " \n",
       "           volume  \n",
       " 0       386800.0  \n",
       " 1       104744.0  \n",
       " 2        67408.0  \n",
       " 3       101688.0  \n",
       " 4       127512.0  \n",
       " ...          ...  \n",
       " 431425  185327.0  \n",
       " 431426  168017.0  \n",
       " 431427  152683.0  \n",
       " 431428  184453.0  \n",
       " 431429  473034.0  \n",
       " \n",
       " [431430 rows x 6 columns],\n",
       " 'V':                        time        open        high         low       close  \\\n",
       " 0       2021-04-09 09:31:00  217.885677  217.944832  217.234978  217.506102   \n",
       " 1       2021-04-09 09:32:00  217.427230  217.427230  216.678433  216.801178   \n",
       " 2       2021-04-09 09:33:00  216.860333  216.978642  216.416674  216.732165   \n",
       " 3       2021-04-09 09:34:00  216.825826  216.919487  216.544842  216.682869   \n",
       " 4       2021-04-09 09:35:00  216.613856  217.027937  216.584278  216.939205   \n",
       " ...                     ...         ...         ...         ...         ...   \n",
       " 431425  2022-12-29 15:56:00  207.742396  207.742396  207.582709  207.702474   \n",
       " 431426  2022-12-29 15:57:00  207.702474  207.752376  207.672533  207.752376   \n",
       " 431427  2022-12-29 15:58:00  207.757366  207.782317  207.692493  207.695987   \n",
       " 431428  2022-12-29 15:59:00  207.702474  207.732415  207.602670  207.692493   \n",
       " 431429  2022-12-29 16:00:00  207.692493  207.732415  207.492885  207.642591   \n",
       " \n",
       "           volume  \n",
       " 0       483944.0  \n",
       " 1        23138.0  \n",
       " 2        29111.0  \n",
       " 3        25090.0  \n",
       " 4        49416.0  \n",
       " ...          ...  \n",
       " 431425   27789.0  \n",
       " 431426   22878.0  \n",
       " 431427   24808.0  \n",
       " 431428   32509.0  \n",
       " 431429   93994.0  \n",
       " \n",
       " [431430 rows x 6 columns],\n",
       " 'MA':                        time        open        high         low       close  \\\n",
       " 0       2021-04-09 09:31:00  372.393498  372.542028  370.838888  372.002370   \n",
       " 1       2021-04-09 09:32:00  372.027125  372.027125  370.769574  371.433007   \n",
       " 2       2021-04-09 09:33:00  371.487467  371.819184  371.363693  371.551533   \n",
       " 3       2021-04-09 09:34:00  371.665703  372.487567  371.665703  372.413302   \n",
       " 4       2021-04-09 09:35:00  372.334086  372.591538  372.170704  372.170704   \n",
       " ...                     ...         ...         ...         ...         ...   \n",
       " 431425  2022-12-29 15:56:00  348.110323  348.120308  347.810788  347.850726   \n",
       " 431426  2022-12-29 15:57:00  347.870695  347.910633  347.810788  347.850726   \n",
       " 431427  2022-12-29 15:58:00  347.875687  347.900648  347.671005  347.680989   \n",
       " 431428  2022-12-29 15:59:00  347.661020  347.755873  347.531221  347.725919   \n",
       " 431429  2022-12-29 16:00:00  347.720927  347.810788  347.501268  347.690974   \n",
       " \n",
       "           volume  \n",
       " 0       115048.0  \n",
       " 1        16491.0  \n",
       " 2        14228.0  \n",
       " 3        11869.0  \n",
       " 4        14733.0  \n",
       " ...          ...  \n",
       " 431425   21204.0  \n",
       " 431426   14066.0  \n",
       " 431427   16194.0  \n",
       " 431428   15167.0  \n",
       " 431429   29008.0  \n",
       " \n",
       " [431430 rows x 6 columns],\n",
       " 'AVGO':                        time        open        high         low       close  \\\n",
       " 0       2021-04-09 09:31:00  451.933989  452.593059  450.681755  451.482055   \n",
       " 1       2021-04-09 09:32:00  451.312580  452.470661  451.152520  451.933989   \n",
       " 2       2021-04-09 09:33:00  451.933989  451.933989  451.176058  451.802175   \n",
       " 3       2021-04-09 09:34:00  451.886912  452.470661  451.651530  452.470661   \n",
       " 4       2021-04-09 09:35:00  452.696627  452.932010  452.429798  452.809611   \n",
       " ...                     ...         ...         ...         ...         ...   \n",
       " 431425  2022-12-29 15:56:00  555.462238  555.462238  554.841721  555.050214   \n",
       " 431426  2022-12-29 15:57:00  555.159425  555.169354  554.345307  554.345307   \n",
       " 431427  2022-12-29 15:58:00  554.335378  554.643155  554.136813  554.243244   \n",
       " 431428  2022-12-29 15:59:00  554.295665  554.295665  553.997817  554.082207   \n",
       " 431429  2022-12-29 16:00:00  554.097100  554.126885  553.173770  553.789323   \n",
       " \n",
       "          volume  \n",
       " 0       41378.0  \n",
       " 1        9094.0  \n",
       " 2        4628.0  \n",
       " 3        6956.0  \n",
       " 4        3084.0  \n",
       " ...         ...  \n",
       " 431425  10339.0  \n",
       " 431426  17832.0  \n",
       " 431427  16765.0  \n",
       " 431428  21800.0  \n",
       " 431429  65017.0  \n",
       " \n",
       " [431430 rows x 6 columns],\n",
       " 'CRM':                        time      open     high      low    close    volume\n",
       " 0       2021-04-09 09:31:00  224.3300  224.930  223.630  224.030  262051.0\n",
       " 1       2021-04-09 09:32:00  223.9200  224.230  223.790  223.960   24802.0\n",
       " 2       2021-04-09 09:33:00  223.9201  224.260  223.860  224.220   37991.0\n",
       " 3       2021-04-09 09:34:00  224.3200  224.420  224.050  224.210   38904.0\n",
       " 4       2021-04-09 09:35:00  224.2250  224.330  223.920  224.060   28955.0\n",
       " ...                     ...       ...      ...      ...      ...       ...\n",
       " 431425  2022-12-29 15:56:00  132.5600  132.620  132.460  132.620   37204.0\n",
       " 431426  2022-12-29 15:57:00  132.6250  132.635  132.515  132.520   46557.0\n",
       " 431427  2022-12-29 15:58:00  132.5200  132.620  132.510  132.555   36582.0\n",
       " 431428  2022-12-29 15:59:00  132.5550  132.570  132.500  132.510   51954.0\n",
       " 431429  2022-12-29 16:00:00  132.5200  132.570  132.450  132.550   86643.0\n",
       " \n",
       " [431430 rows x 6 columns],\n",
       " 'TXN':                        time        open        high         low       close  \\\n",
       " 0       2021-04-09 09:31:00  183.569108  183.929960  183.027831  183.497888   \n",
       " 1       2021-04-09 09:32:00  183.483644  183.484403  183.056319  183.274729   \n",
       " 2       2021-04-09 09:33:00  183.122792  183.293722  183.094303  183.293722   \n",
       " 3       2021-04-09 09:34:00  183.379186  183.825503  183.227249  183.806511   \n",
       " 4       2021-04-09 09:35:00  183.759030  183.825503  183.540620  183.702054   \n",
       " ...                     ...         ...         ...         ...         ...   \n",
       " 431425  2022-12-29 15:56:00  164.352864  164.352864  164.134429  164.323077   \n",
       " 431426  2022-12-29 15:57:00  164.362793  164.362793  164.099677  164.114571   \n",
       " 431427  2022-12-29 15:58:00  164.154286  164.194002  163.925922  163.985495   \n",
       " 431428  2022-12-29 15:59:00  163.975566  163.985495  163.856420  163.935851   \n",
       " 431429  2022-12-29 16:00:00  163.955709  163.965637  163.578411  163.856420   \n",
       " \n",
       "           volume  \n",
       " 0        76302.0  \n",
       " 1         7776.0  \n",
       " 2         1650.0  \n",
       " 3        23248.0  \n",
       " 4         5096.0  \n",
       " ...          ...  \n",
       " 431425   43762.0  \n",
       " 431426   40419.0  \n",
       " 431427   60455.0  \n",
       " 431428   45599.0  \n",
       " 431429  136726.0  \n",
       " \n",
       " [431430 rows x 6 columns]}"
      ]
     },
     "execution_count": 24,
     "metadata": {},
     "output_type": "execute_result"
    }
   ],
   "source": [
    "stocks.keys()\n",
    "stocks"
   ]
  },
  {
   "cell_type": "code",
   "execution_count": 16,
   "metadata": {},
   "outputs": [],
   "source": [
    "singleindicator_output = ci.theo_etf(stocks)"
   ]
  },
  {
   "cell_type": "code",
   "execution_count": 17,
   "metadata": {},
   "outputs": [
    {
     "data": {
      "text/plain": [
       "0         1117.950536\n",
       "1         1117.035760\n",
       "2         1116.350815\n",
       "3         1117.738278\n",
       "4         1117.215124\n",
       "             ...     \n",
       "431425    1092.190454\n",
       "431426    1091.829871\n",
       "431427    1091.343801\n",
       "431428    1090.781050\n",
       "431429    1090.469991\n",
       "Name: close, Length: 431430, dtype: float64"
      ]
     },
     "execution_count": 17,
     "metadata": {},
     "output_type": "execute_result"
    }
   ],
   "source": [
    "CustomIndicators().theo_etf(stocks)"
   ]
  },
  {
   "cell_type": "code",
   "execution_count": 19,
   "metadata": {},
   "outputs": [
    {
     "data": {
      "text/plain": [
       "0         371.424273\n",
       "1         370.725571\n",
       "2         370.852649\n",
       "3         370.979728\n",
       "4         371.106806\n",
       "             ...    \n",
       "431425    319.517117\n",
       "431426    319.397366\n",
       "431427    319.247676\n",
       "431428    319.147883\n",
       "431429    318.918359\n",
       "Name: close, Length: 431430, dtype: float64"
      ]
     },
     "execution_count": 19,
     "metadata": {},
     "output_type": "execute_result"
    }
   ],
   "source": [
    "true_etf = pd.read_csv('data/VGT.csv')['close']\n",
    "true_etf"
   ]
  },
  {
   "cell_type": "code",
   "execution_count": 20,
   "metadata": {},
   "outputs": [
    {
     "data": {
      "text/plain": [
       "<Axes: >"
      ]
     },
     "execution_count": 20,
     "metadata": {},
     "output_type": "execute_result"
    },
    {
     "data": {
      "image/png": "[encoded data removed]",
      "text/plain": [
       "<Figure size 640x480 with 1 Axes>"
      ]
     },
     "metadata": {},
     "output_type": "display_data"
    }
   ],
   "source": [
    "diff = true_etf - singleindicator_output\n",
    "diff.plot()"
   ]
  },
  {
   "cell_type": "code",
   "execution_count": 21,
   "metadata": {},
   "outputs": [
    {
     "data": {
      "text/plain": [
       "<Axes: >"
      ]
     },
     "execution_count": 21,
     "metadata": {},
     "output_type": "execute_result"
    },
    {
     "data": {
      "image/png": "[encoded data removed]",
      "text/plain": [
       "<Figure size 640x480 with 1 Axes>"
      ]
     },
     "metadata": {},
     "output_type": "display_data"
    }
   ],
   "source": [
    "ax = singleindicator_output.plot(y='time')\n",
    "true_etf.plot(ax=ax)"
   ]
  },
  {
   "attachments": {},
   "cell_type": "markdown",
   "metadata": {},
   "source": [
    "## Strategy Class\n",
    "\n",
    "Similar to the ``Indicators`` class, we can implement a strategy by extending ``qfinuwa.Strategy``.\n",
    "\n",
    "The null strategy would be implemented as follows:"
   ]
  },
  {
   "cell_type": "code",
   "execution_count": 11,
   "metadata": {},
   "outputs": [],
   "source": [
    "from qfinuwa import Strategy"
   ]
  },
  {
   "cell_type": "code",
   "execution_count": 12,
   "metadata": {},
   "outputs": [],
   "source": [
    "\n",
    "class MyStrategy(Strategy):\n",
    "    \n",
    "    def __init__(self):\n",
    "        return\n",
    "    \n",
    "    def on_data(self, data, indicators, portfolio):\n",
    "       return\n",
    "    \n",
    "    def on_finish(self):\n",
    "        return"
   ]
  },
  {
   "attachments": {},
   "cell_type": "markdown",
   "metadata": {},
   "source": [
    "The strategy offers custom implementation of three functions.\n",
    "\n",
    "- ``__init``: called on creation of the strategy\n",
    "- ``on_data``: called every data tick \n",
    "- ``on_finish``: return an object to be appended to the results"
   ]
  },
  {
   "attachments": {},
   "cell_type": "markdown",
   "metadata": {},
   "source": [
    "### ``__init__``\n",
    "\n",
    "You can create variables here that can be accessed by ``on_data`` at runtime. \n",
    "\n",
    "Similar to each of your indicator functions, ``kwargs`` can be specified as hyperparamters (more on this later).\n",
    "\n",
    "### ``on_data``\n",
    "\n",
    "``on_data`` expects 3 additional arugments that will be populated at runtime.\n",
    "\n",
    "- ``data``: the historic data up to this point\n",
    "- ``indicators``: the historic value of your custom indicators\n",
    "- ``portfolio``: an object that manages your position\n",
    "\n",
    "### ``on_finish``\n",
    "\n",
    "Should return an object that will be added to the results. An example use case is if you want to measure some statistic over time, and the backtester doesn't offer it, so you record it yourself during runtime and return it via this function.\n",
    "\n",
    "### Example 1 - BollingerBand"
   ]
  },
  {
   "cell_type": "code",
   "execution_count": 13,
   "metadata": {},
   "outputs": [],
   "source": [
    "class MyStrategy(Strategy):\n",
    "    \n",
    "    def __init__(self, quantity=5):\n",
    "        self.quantity = quantity\n",
    "        self.n_failed_orders = 0\n",
    "    \n",
    "    def on_data(self, prices, indicators, portfolio):\n",
    "\n",
    "        # If current price is below lower Bollinger Band, enter a long position\n",
    "        for stock in portfolio.stocks:\n",
    "\n",
    "            if(prices['close'][stock][-1] < indicators['lower_bollinger'][stock][-1]):\n",
    "                order_success = portfolio.order(stock, self.quantity)\n",
    "                if not order_success:\n",
    "                    self.n_failed_orders += 1\n",
    "            \n",
    "            # If current price is above upper Bollinger Band, enter a short position\n",
    "            if(prices['close'][stock][-1] > indicators['upper_bollinger'][stock][-1]):\n",
    "                order_success = portfolio.order(stock, -self.quantity)\n",
    "                if not order_success:\n",
    "                    self.n_failed_orders += 1\n",
    "\n",
    "    def on_finish(self):\n",
    "        # Added to results object - access using result.on_finish\n",
    "        return self.n_failed_orders"
   ]
  },
  {
   "attachments": {},
   "cell_type": "markdown",
   "metadata": {},
   "source": [
    "## Example 2 - RandomStrategy"
   ]
  },
  {
   "cell_type": "code",
   "execution_count": 14,
   "metadata": {},
   "outputs": [],
   "source": [
    "import random\n",
    "\n",
    "class RandomStrategy(Strategy):\n",
    "    \n",
    "    def __init__(self, quantity=5):\n",
    "        self.quantity = quantity\n",
    "        self.n_failed_orders = 0\n",
    "    \n",
    "    def on_data(self, prices, indicators, portfolio):\n",
    "\n",
    "        # this strategy doesn't use prices or indicators - see BollingerBand Example\n",
    "\n",
    "        s = random.choice(portfolio.stocks)\n",
    "        q = random.randint(-self.quantity, self.quantity)\n",
    "\n",
    "        order_success = portfolio.order(s, quantity=q)\n",
    "        if not order_success:\n",
    "            self.n_failed_orders += 1\n",
    "\n",
    "    def on_finish(self):\n",
    "        # Added to results object - access using result.on_finish\n",
    "        return self.n_failed_orders"
   ]
  },
  {
   "attachments": {},
   "cell_type": "markdown",
   "metadata": {},
   "source": [
    "## Portfolio Class\n",
    "\n",
    "To execute a trade, use the following function on the ``portfolio`` argument.\n",
    "\n",
    "```py\n",
    "portfolio.order('AAPL', 100) # buy 100 APPL\n",
    "portfolio.order('GOOG', -50) # sell 50 GOOG\n",
    "```"
   ]
  },
  {
   "attachments": {},
   "cell_type": "markdown",
   "metadata": {},
   "source": [
    "``portfolio.order`` will return ``True`` if successful and ``False`` if not. If a trade will exceed your delta limit, it will fail.\n",
    "\n",
    "Some useful variables:\n",
    "\n",
    "```py\n",
    "portfolio.delta: dict           # current delta\n",
    "portfolio.delta_limits: dict    # delta limits (set by backtester)\n",
    "portfolio.stocks: list          # available stocks\n",
    "```\n",
    "\n",
    "Note, the backtester will return your delta to 0 (including fees if applicable)."
   ]
  },
  {
   "attachments": {},
   "cell_type": "markdown",
   "metadata": {},
   "source": [
    "## The Backtester"
   ]
  },
  {
   "cell_type": "code",
   "execution_count": 15,
   "metadata": {},
   "outputs": [],
   "source": [
    "from qfinuwa import Backtester"
   ]
  },
  {
   "cell_type": "code",
   "execution_count": 17,
   "metadata": {},
   "outputs": [
    {
     "name": "stderr",
     "output_type": "stream",
     "text": [
      "> Fetching data: 100%|██████████| 4/4 [00:02<00:00,  1.41it/s]\n",
      "> Precompiling data: 100%|██████████| 169299/169299 [00:06<00:00, 27765.91it/s]\n"
     ]
    }
   ],
   "source": [
    "backtester = Backtester(MyStrategy, CustomIndicators, ['AAPL','MSFT','GOOGL','NVDA'], \n",
    "                        data_folder='./data', days='all', fee=0.01, delta_limits=100)"
   ]
  },
  {
   "attachments": {},
   "cell_type": "markdown",
   "metadata": {},
   "source": [
    "The backtester may take a few seconds to create itself, but once it is created you shouldn't do it again unless you want to change the data. It takes a long time to create itself because it is precompiling the data for iterating.\n",
    "\n",
    "``delta_limits`` can be dictionary of specific delta limits for each stock, or an integer that will apply to all stocks.\n",
    "\n",
    "### Changing Backtesting Parameters"
   ]
  },
  {
   "cell_type": "code",
   "execution_count": 18,
   "metadata": {},
   "outputs": [
    {
     "data": {
      "text/plain": [
       "Backtester:\n",
       "- Strategy: MyStrategy\n",
       "\t- Params: {'quantity': 5}\n",
       "- Indicators: CustomIndicators\n",
       "\t- Params: {'bollinger_bands': {'BOLLINGER_WIDTH': 2, 'WINDOW_SIZE': 100}, 'etf': {'a': 0.2, 'b': 0.2, 'c': 0.05, 'd': 0.05}}\n",
       "\t- SingleIndicators: ['etf']\n",
       "\t- MultiIndicators: ['lower_bollinger', 'upper_bollinger']\n",
       "- Stocks: ['AAPL', 'GOOGL', 'MSFT', 'NVDA']\n",
       "- Fee 0.01\n",
       "- delta_limit: {'AAPL': 100, 'GOOGL': 100, 'MSFT': 100, 'NVDA': 100}\n",
       "- Days: all"
      ]
     },
     "execution_count": 18,
     "metadata": {},
     "output_type": "execute_result"
    }
   ],
   "source": [
    "backtester"
   ]
  },
  {
   "cell_type": "code",
   "execution_count": 19,
   "metadata": {},
   "outputs": [
    {
     "data": {
      "text/plain": [
       "Backtester:\n",
       "- Strategy: MyStrategy\n",
       "\t- Params: {'quantity': 5}\n",
       "- Indicators: CustomIndicators\n",
       "\t- Params: {'bollinger_bands': {'BOLLINGER_WIDTH': 2, 'WINDOW_SIZE': 100}, 'etf': {'a': 0.2, 'b': 0.2, 'c': 0.05, 'd': 0.05}}\n",
       "\t- SingleIndicators: ['etf']\n",
       "\t- MultiIndicators: ['lower_bollinger', 'upper_bollinger']\n",
       "- Stocks: ['AAPL', 'GOOGL', 'MSFT', 'NVDA']\n",
       "- Fee 0.001\n",
       "- delta_limit: {'AAPL': 100, 'GOOGL': 100, 'MSFT': 200, 'NVDA': 200}\n",
       "- Days: 30"
      ]
     },
     "execution_count": 19,
     "metadata": {},
     "output_type": "execute_result"
    }
   ],
   "source": [
    "backtester.fee = 0.001\n",
    "backtester.delta_limits = {'AAPL': 100, 'GOOGL': 100, 'MSFT': 200, 'NVDA': 200}\n",
    "# backtester.delta_limits = 100\n",
    "backtester.days = 30\n",
    "\n",
    "backtester"
   ]
  },
  {
   "attachments": {},
   "cell_type": "markdown",
   "metadata": {},
   "source": [
    "## Changing Strategy Parameters"
   ]
  },
  {
   "cell_type": "code",
   "execution_count": 20,
   "metadata": {},
   "outputs": [
    {
     "name": "stdout",
     "output_type": "stream",
     "text": [
      "current params {'quantity': 5}\n",
      "default params {'quantity': 5}\n"
     ]
    }
   ],
   "source": [
    "print('current params', backtester.strategy.params)\n",
    "print('default params', backtester.strategy.defaults)"
   ]
  },
  {
   "cell_type": "code",
   "execution_count": 21,
   "metadata": {},
   "outputs": [],
   "source": [
    "backtester.strategy.update_params({'quantity': 10})"
   ]
  },
  {
   "cell_type": "code",
   "execution_count": 22,
   "metadata": {},
   "outputs": [],
   "source": [
    "backtester.strategy = MyStrategy # update strategy (if you make a change)\n",
    "# backtester.strategy = RandomStrategy"
   ]
  },
  {
   "attachments": {},
   "cell_type": "markdown",
   "metadata": {},
   "source": [
    "## Changing Indicator Parameters"
   ]
  },
  {
   "cell_type": "code",
   "execution_count": 23,
   "metadata": {},
   "outputs": [
    {
     "name": "stdout",
     "output_type": "stream",
     "text": [
      "current params {'bollinger_bands': {'BOLLINGER_WIDTH': 2, 'WINDOW_SIZE': 100}, 'etf': {'a': 0.2, 'b': 0.2, 'c': 0.05, 'd': 0.05}}\n",
      "default params {'bollinger_bands': {'BOLLINGER_WIDTH': 2, 'WINDOW_SIZE': 100}, 'etf': {'a': 0.2, 'b': 0.2, 'c': 0.05, 'd': 0.05}}\n"
     ]
    }
   ],
   "source": [
    "print('current params', backtester.indicators.params)\n",
    "print('default params', backtester.indicators.defaults)"
   ]
  },
  {
   "cell_type": "code",
   "execution_count": 24,
   "metadata": {},
   "outputs": [],
   "source": [
    "backtester.indicators.update_params({'etf': {'a': 0.0}, 'bollinger_bands': {'BOLLINGER_WIDTH': 1, 'WINDOW_SIZE': 50}})"
   ]
  },
  {
   "cell_type": "code",
   "execution_count": 25,
   "metadata": {},
   "outputs": [],
   "source": [
    "backtester.indicators = CustomIndicators"
   ]
  },
  {
   "attachments": {},
   "cell_type": "markdown",
   "metadata": {},
   "source": [
    "## Running Backtests\n",
    "\n",
    "To run a backtest, use ``Backtester.run``.\n",
    "\n",
    "``run`` will pick ``cv`` random periods of ``backtester.days`` days and run your strategy on that window of data. If you want reproducibility, use ``seed`` to use the same random generation every time, else ommit it as a key word argument."
   ]
  },
  {
   "cell_type": "code",
   "execution_count": 30,
   "metadata": {},
   "outputs": [
    {
     "name": "stderr",
     "output_type": "stream",
     "text": [
      "> Running backtest over 2 samples of 30 days: 100%|██████████| 2/2 [00:03<00:00,  1.73s/it]\n"
     ]
    }
   ],
   "source": [
    "output = backtester.run(cv=2, seed=2023)"
   ]
  },
  {
   "cell_type": "code",
   "execution_count": 32,
   "metadata": {},
   "outputs": [
    {
     "name": "stdout",
     "output_type": "stream",
     "text": [
      "\n",
      "{'strategy': {'quantity': 10}, 'indicator': {'bollinger_bands': {'BOLLINGER_WIDTH': 2, 'WINDOW_SIZE': 100}, 'etf': {'a': 0.2, 'b': 0.2, 'c': 0.05, 'd': 0.05}}}\n",
      "\n",
      "Mean ROI:\t45.662409469147406\n",
      "STD ROI:\t4484.424213093394\n",
      "\n",
      "26/01/2022 -> 24/02/2022:\t-4438.762\n",
      "20/09/2022 -> 19/10/2022:\t4530.087\n",
      "\n",
      "AVERAGED RESULTS FOR 2 RUNS:\n",
      "|               |     AAPL |    GOOGL |     MSFT |    NVDA |        Net |\n",
      "|---------------|----------|----------|----------|---------|------------|\n",
      "| n_trades      |    650.5 |      583 |    849.5 |   883.5 |     2966.5 |\n",
      "| n_buys        |    324.5 |    291.5 |      426 |     435 |       1477 |\n",
      "| n_sells       |      326 |    291.5 |    423.5 |   448.5 |     1489.5 |\n",
      "| gross_pnl     |  1234.45 |  881.662 |  141.699 | 2891.09 |     5148.9 |\n",
      "| fees_paid     |  1017.62 |  1528.75 |  979.307 | 1577.56 |    5103.23 |\n",
      "| net_pnl       |  216.825 | -647.086 | -837.608 | 1313.53 |    45.6624 |\n",
      "| pnl_per_trade | 0.325974 | -1.16572 | -1.23093 |  1.3487 | -0.0933736 |\n",
      "(45.662409469147406, 4484.424213093394)\n",
      "4530.086622562542\n",
      "# failed orders: [2228, 2128]\n",
      "{'strategy': {'quantity': 10}, 'indicator': {'bollinger_bands': {'BOLLINGER_WIDTH': 2, 'WINDOW_SIZE': 100}, 'etf': {'a': 0.2, 'b': 0.2, 'c': 0.05, 'd': 0.05}}}\n"
     ]
    }
   ],
   "source": [
    "\n",
    "print(output)\n",
    "\n",
    "print(output.roi)\n",
    "print(output[1].roi)\n",
    "\n",
    "# [run.roi for run in output]\n",
    "\n",
    "# Example of obtaining custom runtime data (see Strategy.on_finish)\n",
    "print('# failed orders:', [run.on_finish for run in output])\n",
    "\n",
    "# Get parameters \n",
    "print(output.parameters)"
   ]
  },
  {
   "attachments": {},
   "cell_type": "markdown",
   "metadata": {},
   "source": [
    "Or you can specify which dates to start (the end date will be specified by ``backtester.days``).\n",
    "\n",
    "Note, not all days will contain data - the market may be closed."
   ]
  },
  {
   "cell_type": "code",
   "execution_count": null,
   "metadata": {},
   "outputs": [
    {
     "name": "stdout",
     "output_type": "stream",
     "text": [
      "(Timestamp('2021-04-19 09:31:00'), Timestamp('2023-01-06 15:59:00')) 30\n"
     ]
    },
    {
     "name": "stderr",
     "output_type": "stream",
     "text": [
      "> Running backtest over 3 samples of 30 days: 100%|██████████| 3/3 [00:03<00:00,  1.06s/it]"
     ]
    },
    {
     "name": "stdout",
     "output_type": "stream",
     "text": [
      "\n",
      "{'strategy': {'quantity': 10}, 'indicator': {'bollinger_bands': {'BOLLINGER_WIDTH': 2, 'WINDOW_SIZE': 100}, 'etf': {'a': 0.2, 'b': 0.2, 'c': 0.05, 'd': 0.05}}}\n",
      "\n",
      "Mean ROI:\t-5545.1129596610035\n",
      "STD ROI:\t2393.721229841482\n",
      "\n",
      "06/07/2021 -> 04/08/2021:\t-4023.076\n",
      "19/04/2021 -> 18/05/2021:\t-3687.467\n",
      "03/01/2022 -> 28/01/2022:\t-8924.796\n",
      "\n",
      "AVERAGED RESULTS FOR 3 RUNS:\n",
      "|               |     AAPL |    GOOGL |     MSFT |     NVDA |      Net |\n",
      "|---------------|----------|----------|----------|----------|----------|\n",
      "| n_trades      |  581.667 |      578 |  843.333 |  768.667 |  2771.67 |\n",
      "| n_buys        |  293.333 |      288 |  423.667 |  384.333 |  1389.33 |\n",
      "| n_sells       |  288.333 |      290 |  419.667 |  384.333 |  1382.33 |\n",
      "| gross_pnl     |  284.199 |  434.784 | -62.7265 | -1221.54 |  -565.28 |\n",
      "| fees_paid     |  840.357 |   1590.2 |  1063.05 |  1486.22 |  4979.83 |\n",
      "| net_pnl       | -556.158 | -1155.41 | -1125.78 | -2707.76 | -5545.11 |\n",
      "| pnl_per_trade | -1.03811 | -1.76914 | -1.43114 |  -4.2809 |  -2.1641 |\n"
     ]
    },
    {
     "name": "stderr",
     "output_type": "stream",
     "text": [
      "\n"
     ]
    }
   ],
   "source": [
    "\n",
    "print(backtester.date_range, backtester.days)\n",
    "output = backtester.run(cv=5, start_dates=['2021-06-07', '2021-04-19', '2022-01-01'])\n",
    "\n",
    "print(output)"
   ]
  },
  {
   "attachments": {},
   "cell_type": "markdown",
   "metadata": {},
   "source": [
    "You can either use ``Backtester.strategy.update_params`` to update parameters, or just give them to ``run``."
   ]
  },
  {
   "cell_type": "code",
   "execution_count": 33,
   "metadata": {},
   "outputs": [
    {
     "name": "stderr",
     "output_type": "stream",
     "text": [
      "> Running backtest over 1 sample of 30 days: 100%|██████████| 7624/7624 [00:00<00:00, 7871.87it/s]\n"
     ]
    }
   ],
   "source": [
    "S = {\n",
    "    'quantity': 1\n",
    "}\n",
    "\n",
    "I = {\n",
    "    'bollinger_bands': {\n",
    "        'BOLLINGER_WIDTH': 1,\n",
    "        'WINDOW_SIZE': 50\n",
    "    },\n",
    "    'etf': {\n",
    "        'a': 0.0\n",
    "    }\n",
    "}\n",
    "\n",
    "\n",
    "output = backtester.run(strategy_params = S, indicator_params = I, cv=1)"
   ]
  },
  {
   "attachments": {},
   "cell_type": "markdown",
   "metadata": {},
   "source": [
    "## Hyper-Parameter Sweep\n",
    "\n",
    "To run a basic grid-search over all your hyperparameters, use ``Backtester.run_grid_search``."
   ]
  },
  {
   "cell_type": "code",
   "execution_count": 34,
   "metadata": {},
   "outputs": [
    {
     "name": "stdout",
     "output_type": "stream",
     "text": [
      "> Backtesting the across the following ranges:\n",
      "Agorithm Parameters {'quantity': [1, 10]}\n",
      "Indicator Parameters {'bollinger_bands': {'BOLLINGER_WIDTH': [1, 2], 'WINDOW_SIZE': 100}, 'etf': {'a': [0.0, 0.5], 'b': 0.2, 'c': 0.05, 'd': 0.05}}\n"
     ]
    },
    {
     "name": "stderr",
     "output_type": "stream",
     "text": [
      "Running paramter sweep (cv=2): 100%|██████████| 8/8 [00:12<00:00,  1.61s/it]\n"
     ]
    }
   ],
   "source": [
    "output = backtester.run_grid_search(\n",
    "    strategy_params={'quantity': [1, 10]},\n",
    "    indicator_params={'bollinger_bands': {\n",
    "                            'BOLLINGER_WIDTH': [1, 2], \n",
    "                            }, \n",
    "                        'etf': {'a': [0.0, 0.5]}},\n",
    "    cv=2)"
   ]
  },
  {
   "cell_type": "code",
   "execution_count": 35,
   "metadata": {},
   "outputs": [
    {
     "name": "stdout",
     "output_type": "stream",
     "text": [
      "({'quantity': [1, 10]}, {'bollinger_bands': {'BOLLINGER_WIDTH': [1, 2], 'WINDOW_SIZE': 100}, 'etf': {'a': [0.0, 0.5], 'b': 0.2, 'c': 0.05, 'd': 0.05}})\n"
     ]
    },
    {
     "data": {
      "text/plain": [
       "Best parameter results:\n",
       "\n",
       "{'strategy': {'quantity': 1}, 'indicator': {'bollinger_bands': {'BOLLINGER_WIDTH': 2, 'WINDOW_SIZE': 100}, 'etf': {'a': 0.0, 'b': 0.2, 'c': 0.05, 'd': 0.05}}}\n",
       "\n",
       "Mean ROI:\t220.22170230275316\n",
       "STD ROI:\t694.7741542614506\n",
       "\n",
       "27/09/2021 -> 26/10/2021:\t-474.552\n",
       "16/12/2021 -> 14/01/2022:\t914.996\n",
       "\n",
       "AVERAGED RESULTS FOR 2 RUNS:\n",
       "|               |      AAPL |       GOOGL |     MSFT |        NVDA |       Net |\n",
       "|---------------|-----------|-------------|----------|-------------|-----------|\n",
       "| n_trades      |      1234 |      1143.5 |     1261 |      1207.5 |      4846 |\n",
       "| n_buys        |       596 |       587.5 |    583.5 |       593.5 |    2360.5 |\n",
       "| n_sells       |       638 |         556 |    677.5 |         614 |    2485.5 |\n",
       "| gross_pnl     |  -27.8202 |     342.416 |  654.318 |     275.387 |    1244.3 |\n",
       "| fees_paid     |   194.281 |     351.438 |  177.147 |     301.213 |   1024.08 |\n",
       "| net_pnl       |  -222.101 |     -9.0217 |  477.171 |    -25.8265 |   220.222 |\n",
       "| pnl_per_trade | -0.177167 | -0.00512644 | 0.382717 | -0.00704511 | 0.0484832 |"
      ]
     },
     "execution_count": 35,
     "metadata": {},
     "output_type": "execute_result"
    }
   ],
   "source": [
    "print(output.parameters)\n",
    "output"
   ]
  },
  {
   "attachments": {},
   "cell_type": "markdown",
   "metadata": {},
   "source": [
    "## Plotting"
   ]
  },
  {
   "cell_type": "code",
   "execution_count": 36,
   "metadata": {},
   "outputs": [],
   "source": [
    "from qfinuwa import Plotting"
   ]
  },
  {
   "cell_type": "code",
   "execution_count": 37,
   "metadata": {},
   "outputs": [
    {
     "name": "stderr",
     "output_type": "stream",
     "text": [
      "> Running backtest over 3 samples of 30 days: 100%|██████████| 3/3 [00:03<00:00,  1.00s/it]\n"
     ]
    }
   ],
   "source": [
    "output = backtester.run(cv=3)\n",
    "Plotting.plot_result(output[0], stocks=['NVDA', 'MSFT'], show_transactions = True, show_portfolio=False)"
   ]
  }
 ],
 "metadata": {
  "kernelspec": {
   "display_name": "qfin",
   "language": "python",
   "name": "python3"
  },
  "language_info": {
   "codemirror_mode": {
    "name": "ipython",
    "version": 3
   },
   "file_extension": ".py",
   "mimetype": "text/x-python",
   "name": "python",
   "nbconvert_exporter": "python",
   "pygments_lexer": "ipython3",
   "version": "3.10.6"
  },
  "orig_nbformat": 4
 },
 "nbformat": 4,
 "nbformat_minor": 2
}
