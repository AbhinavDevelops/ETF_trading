{
 "cells": [
  {
   "cell_type": "code",
   "execution_count": 1,
   "metadata": {},
   "outputs": [],
   "source": [
    "# !pip3 install qfinuwa\n",
    "from qfinuwa import Backtester, Strategy, Indicators"
   ]
  },
  {
   "cell_type": "code",
   "execution_count": 2,
   "metadata": {},
   "outputs": [],
   "source": [
    "# Our strategy is ORB (Opening Range Breakout) \n",
    "class ORBStrategy(Strategy):\n",
    "    def __init__(self,quantity=1):\n",
    "        self.quantity = quantity\n",
    "\n",
    "    def on_data(self,data,indicators,portfolio):\n",
    "        if data['close']['AAPL'] > indicators['breakout_threshold_high']['AAPL']:\n",
    "            portfolio.enter_position('long','AAPL',quantity=self.quantity)\n",
    "        elif data['close']['AAPL'] < indicators['breakout_threshold_low']['AAPL']:\n",
    "            portfolio.enter_position('long','AAPL',quantity=self.quantity)"
   ]
  },
  {
   "cell_type": "code",
   "execution_count": 3,
   "metadata": {},
   "outputs": [
    {
     "ename": "NameError",
     "evalue": "name 'CustomIndicator' is not defined",
     "output_type": "error",
     "traceback": [
      "\u001b[0;31m---------------------------------------------------------------------------\u001b[0m",
      "\u001b[0;31mNameError\u001b[0m                                 Traceback (most recent call last)",
      "Cell \u001b[0;32mIn[3], line 1\u001b[0m\n\u001b[0;32m----> 1\u001b[0m indicator \u001b[39m=\u001b[39m CustomIndicator(data\u001b[39m=\u001b[39m\u001b[39m\"\u001b[39m\u001b[39m./data\u001b[39m\u001b[39m\"\u001b[39m)\n",
      "\u001b[0;31mNameError\u001b[0m: name 'CustomIndicator' is not defined"
     ]
    }
   ],
   "source": [
    "indicator = CustomIndicator(data=\"./data\")"
   ]
  },
  {
   "cell_type": "code",
   "execution_count": null,
   "metadata": {},
   "outputs": [
    {
     "name": "stderr",
     "output_type": "stream",
     "text": [
      "> Fetching data: 100%|██████████| 1/1 [00:00<00:00,  2.62it/s]\n",
      "> Precompiling data: 100%|██████████| 431430/431430 [00:04<00:00, 95297.27it/s]\n"
     ]
    }
   ],
   "source": [
    "backtester = Backtester(ORBStrategy,CustomIndicator,[\"AAPL\"],\"./data\")"
   ]
  },
  {
   "cell_type": "code",
   "execution_count": null,
   "metadata": {},
   "outputs": [],
   "source": [
    "backtester.days = 20\n",
    "backtester.fee = 0"
   ]
  },
  {
   "cell_type": "code",
   "execution_count": null,
   "metadata": {},
   "outputs": [],
   "source": [
    "backtester.strategy.update_params({'quantity': 2})"
   ]
  },
  {
   "cell_type": "code",
   "execution_count": null,
   "metadata": {},
   "outputs": [
    {
     "ename": "AttributeError",
     "evalue": "'CustomIndicator' object has no attribute '_cache'",
     "output_type": "error",
     "traceback": [
      "\u001b[0;31m---------------------------------------------------------------------------\u001b[0m",
      "\u001b[0;31mAttributeError\u001b[0m                            Traceback (most recent call last)",
      "Cell \u001b[0;32mIn[33], line 1\u001b[0m\n\u001b[0;32m----> 1\u001b[0m output \u001b[39m=\u001b[39m backtester\u001b[39m.\u001b[39;49mrun()\n",
      "File \u001b[0;32m~/opt/miniconda3/lib/python3.9/site-packages/qfinuwa/backtester.py:252\u001b[0m, in \u001b[0;36mBacktester.run\u001b[0;34m(self, strategy_params, indicator_params, progressbar, cv, seed)\u001b[0m\n\u001b[1;32m    249\u001b[0m results \u001b[39m=\u001b[39m []\n\u001b[1;32m    251\u001b[0m \u001b[39m# caclulate indicators \u001b[39;00m\n\u001b[0;32m--> 252\u001b[0m data_og \u001b[39m=\u001b[39m \u001b[39mzip\u001b[39m(\u001b[39m*\u001b[39m\u001b[39mself\u001b[39m\u001b[39m.\u001b[39m_precomp_prices, \u001b[39mself\u001b[39;49m\u001b[39m.\u001b[39;49m_indicators\u001b[39m.\u001b[39;49m_iterate_params(indicator_params))\n\u001b[1;32m    253\u001b[0m data_tees \u001b[39m=\u001b[39m tee(data_og, cv)\n\u001b[1;32m    254\u001b[0m test_iterator \u001b[39m=\u001b[39m \u001b[39mzip\u001b[39m(data_tees, random_periods)\n",
      "File \u001b[0;32m~/opt/miniconda3/lib/python3.9/site-packages/qfinuwa/indicators.py:310\u001b[0m, in \u001b[0;36mIndicators._iterate_params\u001b[0;34m(self, params)\u001b[0m\n\u001b[1;32m    307\u001b[0m     params \u001b[39m=\u001b[39m \u001b[39mself\u001b[39m\u001b[39m.\u001b[39mparams\n\u001b[1;32m    309\u001b[0m params \u001b[39m=\u001b[39m \u001b[39mself\u001b[39m\u001b[39m.\u001b[39m_fill_in_params(params)\n\u001b[0;32m--> 310\u001b[0m \u001b[39mself\u001b[39;49m\u001b[39m.\u001b[39;49m_add_parameters(params)\n\u001b[1;32m    312\u001b[0m \u001b[39m# params maps function name to parameters\u001b[39;00m\n\u001b[1;32m    313\u001b[0m \u001b[39mself\u001b[39m\u001b[39m.\u001b[39m_indicators_iterations \u001b[39m=\u001b[39m {indicator: array(\u001b[39mlist\u001b[39m(\u001b[39mself\u001b[39m\u001b[39m.\u001b[39m_get_cached(funcn, params[funcn], indicator)\u001b[39m.\u001b[39mvalues())) \u001b[39mfor\u001b[39;00m funcn, indicators \u001b[39min\u001b[39;00m \u001b[39mself\u001b[39m\u001b[39m.\u001b[39m_funcn_to_indicator_map\u001b[39m.\u001b[39mitems() \u001b[39mfor\u001b[39;00m indicator \u001b[39min\u001b[39;00m indicators}\n",
      "File \u001b[0;32m~/opt/miniconda3/lib/python3.9/site-packages/qfinuwa/indicators.py:251\u001b[0m, in \u001b[0;36mIndicators._add_parameters\u001b[0;34m(self, params)\u001b[0m\n\u001b[1;32m    248\u001b[0m \u001b[39mif\u001b[39;00m func_name \u001b[39mnot\u001b[39;00m \u001b[39min\u001b[39;00m \u001b[39mself\u001b[39m\u001b[39m.\u001b[39m_indicator_functions:\n\u001b[1;32m    249\u001b[0m     \u001b[39mraise\u001b[39;00m \u001b[39mValueError\u001b[39;00m(\u001b[39mf\u001b[39m\u001b[39m'\u001b[39m\u001b[39mIndicator function \u001b[39m\u001b[39m{\u001b[39;00mfunc_name\u001b[39m}\u001b[39;00m\u001b[39m not found\u001b[39m\u001b[39m'\u001b[39m)\n\u001b[0;32m--> 251\u001b[0m \u001b[39mself\u001b[39;49m\u001b[39m.\u001b[39;49m_add_indicator(func_name, \u001b[39mself\u001b[39;49m\u001b[39m.\u001b[39;49m_indicator_functions[func_name], f_params)\n",
      "File \u001b[0;32m~/opt/miniconda3/lib/python3.9/site-packages/qfinuwa/indicators.py:259\u001b[0m, in \u001b[0;36mIndicators._add_indicator\u001b[0;34m(self, func_name, func, params)\u001b[0m\n\u001b[1;32m    256\u001b[0m \u001b[39mif\u001b[39;00m params \u001b[39mis\u001b[39;00m \u001b[39mNone\u001b[39;00m:\n\u001b[1;32m    257\u001b[0m     params \u001b[39m=\u001b[39m \u001b[39mself\u001b[39m\u001b[39m.\u001b[39mdefaults[func_name]\n\u001b[0;32m--> 259\u001b[0m \u001b[39mif\u001b[39;00m \u001b[39mself\u001b[39;49m\u001b[39m.\u001b[39;49m_is_cached(func_name, params):\n\u001b[1;32m    260\u001b[0m     \u001b[39mreturn\u001b[39;00m\n\u001b[1;32m    262\u001b[0m to_cache \u001b[39m=\u001b[39m \u001b[39mdict\u001b[39m()\n",
      "File \u001b[0;32m~/opt/miniconda3/lib/python3.9/site-packages/qfinuwa/indicators.py:327\u001b[0m, in \u001b[0;36mIndicators._is_cached\u001b[0;34m(self, function_name, params)\u001b[0m\n\u001b[1;32m    326\u001b[0m \u001b[39mdef\u001b[39;00m \u001b[39m_is_cached\u001b[39m(\u001b[39mself\u001b[39m, function_name, params):\n\u001b[0;32m--> 327\u001b[0m     \u001b[39mreturn\u001b[39;00m \u001b[39mself\u001b[39m\u001b[39m.\u001b[39m_hashable(function_name, params) \u001b[39min\u001b[39;00m \u001b[39mself\u001b[39;49m\u001b[39m.\u001b[39;49m_cache\n",
      "\u001b[0;31mAttributeError\u001b[0m: 'CustomIndicator' object has no attribute '_cache'"
     ]
    }
   ],
   "source": [
    "output = backtester.run()"
   ]
  },
  {
   "cell_type": "code",
   "execution_count": null,
   "metadata": {},
   "outputs": [],
   "source": [
    "from qfinuwa import Plotting\n",
    "Plotting.plot_result(output[0], )"
   ]
  }
 ],
 "metadata": {
  "kernelspec": {
   "display_name": "Python 3",
   "language": "python",
   "name": "python3"
  },
  "language_info": {
   "codemirror_mode": {
    "name": "ipython",
    "version": 3
   },
   "file_extension": ".py",
   "mimetype": "text/x-python",
   "name": "python",
   "nbconvert_exporter": "python",
   "pygments_lexer": "ipython3",
   "version": "3.9.12"
  },
  "orig_nbformat": 4
 },
 "nbformat": 4,
 "nbformat_minor": 2
}
