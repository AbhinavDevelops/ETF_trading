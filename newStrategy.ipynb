{
  "cells": [
    {
      "cell_type": "code",
      "execution_count": null,
      "metadata": {
        "id": "CaRvWPV4gj9k"
      },
      "outputs": [],
      "source": [
        "from qfinuwa import Backtester, Strategy, Indicators"
      ]
    },
    {
      "cell_type": "code",
      "execution_count": null,
      "metadata": {},
      "outputs": [],
      "source": [
        "# ORB strategy (Open Range Breakout)\n",
        "import pandas as pd\n",
        "\n",
        "\n",
        "class CustomIndicator(Indicators):\n",
        "    @Indicators.MultiIndicator\n",
        "    def OpenRangeBreakout(self, stock : pd.Dataframe):\n",
        "        TIMEFRAME = 15"
      ]
    },
    {
      "cell_type": "code",
      "execution_count": null,
      "metadata": {
        "id": "8mLOj1xSgj9n"
      },
      "outputs": [],
      "source": [
        "class OurStrategy(Strategy):\n",
        "\n",
        "    def __init__(self, quantity=1):\n",
        "        self.quantity = quantity\n",
        "\n",
        "    def on_data(self, data, indicators, portfolio):\n",
        "\n",
        "        aapl_diff = data['close']['AAPL'][-1] - data['close']['AAPL'][-2]\n",
        "        goog_diff = data['close']['GOOG'][-1] - data['close']['GOOG'][-2]\n",
        "        tsla_diff = data['close']['TSLA'][-1] - data['close']['TSLA'][-2]\n",
        "\n",
        "        if aapl_diff > 0 and goog_diff > 0 and tsla_diff > 0:\n",
        "            portfolio.enter_position('long', 'AAPL', quantity=self.quantity)\n",
        "            portfolio.enter_position('long', 'GOOG', quantity=self.quantity)\n",
        "            portfolio.enter_position('long', 'TSLA', quantity=self.quantity)\n",
        "\n",
        "        if aapl_diff < 0 and goog_diff < 0 and tsla_diff < 0:\n",
        "            portfolio.exit_position('long', 'AAPL', quantity=self.quantity)\n",
        "            portfolio.exit_position('long', 'GOOG', quantity=self.quantity)\n",
        "            portfolio.exit_position('long', 'TSLA', quantity=self.quantity)        "
      ]
    },
    {
      "cell_type": "code",
      "execution_count": null,
      "metadata": {
        "id": "7YyxbFKngj9o",
        "outputId": "8ac33af0-a03d-403c-f542-b029938cc735"
      },
      "outputs": [
        {
          "name": "stderr",
          "output_type": "stream",
          "text": [
            "> Fetching data: 100%|██████████| 3/3 [00:05<00:00,  1.75s/it]\n",
            "> Precompiling data: 100%|██████████| 431819/431819 [00:09<00:00, 45800.94it/s]\n"
          ]
        }
      ],
      "source": [
        "backtester = Backtester(OurStrategy, Indicators, ['AAPL', 'GOOG', 'TSLA'], './data')"
      ]
    },
    {
      "cell_type": "code",
      "execution_count": null,
      "metadata": {
        "id": "kq9WO7Aigj9o"
      },
      "outputs": [],
      "source": [
        "backtester.days = 20\n",
        "backtester.fee = 0\n",
        "backtester.strategy = OurStrategy\n"
      ]
    },
    {
      "cell_type": "code",
      "execution_count": null,
      "metadata": {
        "id": "CiL6A1c7gj9p"
      },
      "outputs": [],
      "source": [
        "backtester.strategy.update_params({'quantity': 2})"
      ]
    },
    {
      "cell_type": "code",
      "execution_count": null,
      "metadata": {
        "id": "ncjFSSzkgj9p",
        "outputId": "67e8c50d-e00e-4be3-9f3d-351fd62f4b7b"
      },
      "outputs": [
        {
          "data": {
            "text/plain": [
              "{'quantity': 2}"
            ]
          },
          "execution_count": 23,
          "metadata": {},
          "output_type": "execute_result"
        }
      ],
      "source": [
        "backtester.strategy.params"
      ]
    },
    {
      "cell_type": "code",
      "execution_count": null,
      "metadata": {
        "id": "d3rh1TSugj9p",
        "outputId": "d47d144f-f873-4b2f-bc52-c520a7bad2b1"
      },
      "outputs": [
        {
          "name": "stderr",
          "output_type": "stream",
          "text": [
            "> Running backtest over 1 sample of 20 days: 100%|██████████| 19199/19199 [00:00<00:00, 51608.66it/s]\n"
          ]
        }
      ],
      "source": [
        "output = backtester.run()\n"
      ]
    },
    {
      "cell_type": "code",
      "execution_count": null,
      "metadata": {
        "id": "0z7G5lfNgj9q",
        "outputId": "4653c667-3fe7-4fff-8bf4-9da2a43772c1"
      },
      "outputs": [
        {
          "data": {
            "text/plain": [
              "['__class__',\n",
              " '__delattr__',\n",
              " '__dict__',\n",
              " '__dir__',\n",
              " '__doc__',\n",
              " '__eq__',\n",
              " '__format__',\n",
              " '__ge__',\n",
              " '__getattribute__',\n",
              " '__gt__',\n",
              " '__hash__',\n",
              " '__init__',\n",
              " '__init_subclass__',\n",
              " '__le__',\n",
              " '__lt__',\n",
              " '__module__',\n",
              " '__ne__',\n",
              " '__new__',\n",
              " '__reduce__',\n",
              " '__reduce_ex__',\n",
              " '__repr__',\n",
              " '__setattr__',\n",
              " '__sizeof__',\n",
              " '__str__',\n",
              " '__subclasshook__',\n",
              " '__weakref__',\n",
              " '_data',\n",
              " '_days',\n",
              " '_fee',\n",
              " '_get_random_periods',\n",
              " '_indicators',\n",
              " '_precomp_prices',\n",
              " '_random',\n",
              " '_starting_cash',\n",
              " '_strategy',\n",
              " '_strategy_wrapper',\n",
              " 'days',\n",
              " 'fee',\n",
              " 'indicator_params',\n",
              " 'indicators',\n",
              " 'run',\n",
              " 'run_grid_search',\n",
              " 'starting_cash',\n",
              " 'stocks',\n",
              " 'strategy']"
            ]
          },
          "execution_count": 39,
          "metadata": {},
          "output_type": "execute_result"
        }
      ],
      "source": [
        "dir(backtester)"
      ]
    },
    {
      "cell_type": "code",
      "execution_count": null,
      "metadata": {
        "id": "UzQP5PVQgj9q",
        "outputId": "91deca80-aeed-46a3-9d87-04f74ecf9fd0"
      },
      "outputs": [
        {
          "ename": "NameError",
          "evalue": "name 'backtester' is not defined",
          "output_type": "error",
          "traceback": [
            "\u001b[1;31m---------------------------------------------------------------------------\u001b[0m",
            "\u001b[1;31mNameError\u001b[0m                                 Traceback (most recent call last)",
            "\u001b[1;32mc:\\Users\\luced\\Downloads\\ws\\newStrategy.ipynb Cell 9\u001b[0m in \u001b[0;36m<cell line: 1>\u001b[1;34m()\u001b[0m\n\u001b[1;32m----> <a href='vscode-notebook-cell:/c%3A/Users/luced/Downloads/ws/newStrategy.ipynb#X11sZmlsZQ%3D%3D?line=0'>1</a>\u001b[0m backtester\u001b[39m.\u001b[39mstarting_cash\n",
            "\u001b[1;31mNameError\u001b[0m: name 'backtester' is not defined"
          ]
        }
      ],
      "source": [
        "backtester.starting_cash"
      ]
    },
    {
      "cell_type": "code",
      "execution_count": null,
      "metadata": {
        "id": "eFKLCc5Zgj9q"
      },
      "outputs": [],
      "source": [
        "from qfinuwa import Plotting"
      ]
    },
    {
      "cell_type": "code",
      "execution_count": null,
      "metadata": {
        "id": "kn4Zjvf3gj9r"
      },
      "outputs": [],
      "source": [
        "Plotting.plot_result(output[0], )"
      ]
    }
  ],
  "metadata": {
    "colab": {
      "provenance": []
    },
    "kernelspec": {
      "display_name": "Python 3",
      "language": "python",
      "name": "python3"
    },
    "language_info": {
      "codemirror_mode": {
        "name": "ipython",
        "version": 3
      },
      "file_extension": ".py",
      "mimetype": "text/x-python",
      "name": "python",
      "nbconvert_exporter": "python",
      "pygments_lexer": "ipython3",
      "version": "3.10.6"
    },
    "orig_nbformat": 4
  },
  "nbformat": 4,
  "nbformat_minor": 0
}
